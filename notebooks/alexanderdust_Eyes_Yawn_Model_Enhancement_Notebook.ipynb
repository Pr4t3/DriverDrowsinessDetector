{
 "cells": [
  {
   "cell_type": "code",
   "execution_count": 70,
   "id": "0fc429e2",
   "metadata": {},
   "outputs": [
    {
     "name": "stdout",
     "output_type": "stream",
     "text": [
      "/Users/alessandrorinaldi/code/alexanderdust/Dummy_DDP/Drowsiness detection\r\n"
     ]
    }
   ],
   "source": [
    "!pwd"
   ]
  },
  {
   "cell_type": "code",
   "execution_count": 60,
   "id": "08f24a52",
   "metadata": {},
   "outputs": [],
   "source": [
    "import os\n",
    "import tensorflow\n",
    "from tensorflow.keras.preprocessing import image\n",
    "import matplotlib.pyplot as plt \n",
    "import numpy as np\n",
    "from keras.utils.np_utils import to_categorical\n",
    "import random,shutil\n",
    "from keras.models import Sequential\n",
    "from keras.layers import Dropout,Conv2D,Flatten,Dense, MaxPooling2D, BatchNormalization\n",
    "from keras.models import load_model\n",
    "\n",
    "\n",
    "def generator(dir, gen=image.ImageDataGenerator(rescale=1./255), shuffle=True,batch_size=1,target_size=(24,24),class_mode='categorical' ):\n",
    "\n",
    "    return gen.flow_from_directory(dir,batch_size=batch_size,shuffle=shuffle,color_mode='grayscale',class_mode=class_mode,target_size=target_size)"
   ]
  },
  {
   "cell_type": "code",
   "execution_count": 50,
   "id": "cd435ae0",
   "metadata": {},
   "outputs": [
    {
     "name": "stdout",
     "output_type": "stream",
     "text": [
      "Found 2467 images belonging to 4 classes.\n",
      "Found 433 images belonging to 4 classes.\n",
      "77 13\n"
     ]
    }
   ],
   "source": [
    "BS= 32\n",
    "TS=(24,24)\n",
    "train_batch= generator('backup_data/train',shuffle=True, batch_size=BS,target_size=TS)\n",
    "valid_batch= generator('backup_data/valid',shuffle=True, batch_size=BS,target_size=TS)\n",
    "SPE= len(train_batch.classes)//BS\n",
    "VS = len(valid_batch.classes)//BS\n",
    "print(SPE,VS)"
   ]
  },
  {
   "cell_type": "code",
   "execution_count": 51,
   "id": "1f5fa2bc",
   "metadata": {},
   "outputs": [
    {
     "data": {
      "text/plain": [
       "0"
      ]
     },
     "execution_count": 51,
     "metadata": {},
     "output_type": "execute_result"
    }
   ],
   "source": [
    "train_batch.classes[616]"
   ]
  },
  {
   "cell_type": "code",
   "execution_count": 52,
   "id": "667b93d7",
   "metadata": {},
   "outputs": [
    {
     "name": "stdout",
     "output_type": "stream",
     "text": [
      "(32, 24, 24, 1)\n"
     ]
    }
   ],
   "source": [
    "img,labels= next(train_batch)\n",
    "print(img.shape)"
   ]
  },
  {
   "cell_type": "code",
   "execution_count": 53,
   "id": "2d095921",
   "metadata": {},
   "outputs": [],
   "source": [
    "# Model \n",
    "model = Sequential([\n",
    "    Conv2D(32, kernel_size=(3, 3), activation='relu', input_shape=(24,24,1)),\n",
    "    MaxPooling2D(pool_size=(1,1)),\n",
    "    Conv2D(32,(3,3),activation='relu'),\n",
    "    MaxPooling2D(pool_size=(1,1)),\n",
    "#32 convolution filters used each of size 3x3\n",
    "#again\n",
    "    Conv2D(64, (3, 3), activation='relu'),\n",
    "    MaxPooling2D(pool_size=(1,1)),\n",
    "\n",
    "#64 convolution filters used each of size 3x3\n",
    "#choose the best features via pooling\n",
    "    \n",
    "#randomly turn neurons on and off to improve convergence\n",
    "    Dropout(0.25),\n",
    "#flatten since too many dimensions, we only want a classification output\n",
    "    Flatten(),\n",
    "#fully connected to get all relevant data\n",
    "    Dense(128, activation='relu'),\n",
    "#one more dropout for convergence' sake :) \n",
    "    Dropout(0.5),\n",
    "#output a softmax to squash the matrix into output probabilities\n",
    "    Dense(4, activation='softmax')\n",
    "])"
   ]
  },
  {
   "cell_type": "code",
   "execution_count": 61,
   "id": "65a7f791",
   "metadata": {},
   "outputs": [],
   "source": [
    "recall = tensorflow.keras.metrics.Recall(\n",
    "    thresholds=None, top_k=None, class_id=None, name=None, dtype=None\n",
    ")"
   ]
  },
  {
   "cell_type": "code",
   "execution_count": 62,
   "id": "eb2667c2",
   "metadata": {},
   "outputs": [],
   "source": [
    "model.compile(optimizer='adam',loss='categorical_crossentropy',metrics=[recall])"
   ]
  },
  {
   "cell_type": "code",
   "execution_count": 63,
   "id": "87d0dd02",
   "metadata": {
    "scrolled": true
   },
   "outputs": [
    {
     "name": "stdout",
     "output_type": "stream",
     "text": [
      "Epoch 1/15\n",
      "77/77 [==============================] - 8s 96ms/step - loss: 0.0949 - recall: 0.9665 - val_loss: 0.2114 - val_recall: 0.9608\n",
      "Epoch 2/15\n",
      "77/77 [==============================] - 7s 88ms/step - loss: 0.0819 - recall: 0.9593 - val_loss: 0.2078 - val_recall: 0.9621\n",
      "Epoch 3/15\n",
      "77/77 [==============================] - 7s 87ms/step - loss: 0.0611 - recall: 0.9625 - val_loss: 0.1911 - val_recall: 0.9638\n",
      "Epoch 4/15\n",
      "77/77 [==============================] - 7s 85ms/step - loss: 0.0524 - recall: 0.9641 - val_loss: 0.1717 - val_recall: 0.9665\n",
      "Epoch 5/15\n",
      "77/77 [==============================] - 6s 83ms/step - loss: 0.0579 - recall: 0.9671 - val_loss: 0.1506 - val_recall: 0.9689\n",
      "Epoch 6/15\n",
      "77/77 [==============================] - 6s 83ms/step - loss: 0.0497 - recall: 0.9691 - val_loss: 0.1588 - val_recall: 0.9703\n",
      "Epoch 7/15\n",
      "77/77 [==============================] - 6s 84ms/step - loss: 0.0383 - recall: 0.9706 - val_loss: 0.1891 - val_recall: 0.9706\n",
      "Epoch 8/15\n",
      "77/77 [==============================] - 6s 84ms/step - loss: 0.0413 - recall: 0.9709 - val_loss: 0.1488 - val_recall: 0.9715\n",
      "Epoch 9/15\n",
      "77/77 [==============================] - 6s 84ms/step - loss: 0.0434 - recall: 0.9715 - val_loss: 0.1423 - val_recall: 0.9721\n",
      "Epoch 10/15\n",
      "77/77 [==============================] - 6s 84ms/step - loss: 0.0377 - recall: 0.9723 - val_loss: 0.1551 - val_recall: 0.9728\n",
      "Epoch 11/15\n",
      "77/77 [==============================] - 7s 88ms/step - loss: 0.0503 - recall: 0.9729 - val_loss: 0.1285 - val_recall: 0.9733\n",
      "Epoch 12/15\n",
      "77/77 [==============================] - 6s 85ms/step - loss: 0.0354 - recall: 0.9734 - val_loss: 0.1839 - val_recall: 0.9741\n",
      "Epoch 13/15\n",
      "77/77 [==============================] - 7s 86ms/step - loss: 0.0336 - recall: 0.9741 - val_loss: 0.2089 - val_recall: 0.9746\n",
      "Epoch 14/15\n",
      "77/77 [==============================] - 6s 84ms/step - loss: 0.0252 - recall: 0.9748 - val_loss: 0.1890 - val_recall: 0.9751\n",
      "Epoch 15/15\n",
      "77/77 [==============================] - 7s 86ms/step - loss: 0.0292 - recall: 0.9752 - val_loss: 0.2107 - val_recall: 0.9756\n"
     ]
    },
    {
     "data": {
      "text/plain": [
       "<keras.callbacks.History at 0x1c53e2910>"
      ]
     },
     "execution_count": 63,
     "metadata": {},
     "output_type": "execute_result"
    }
   ],
   "source": [
    "model.fit_generator(train_batch, validation_data=valid_batch,epochs=15,steps_per_epoch=SPE ,validation_steps=VS)"
   ]
  },
  {
   "cell_type": "code",
   "execution_count": 67,
   "id": "44860ea7",
   "metadata": {},
   "outputs": [
    {
     "ename": "TypeError",
     "evalue": "'>=' not supported between instances of 'slice' and 'int'",
     "output_type": "error",
     "traceback": [
      "\u001b[0;31m---------------------------------------------------------------------------\u001b[0m",
      "\u001b[0;31mTypeError\u001b[0m                                 Traceback (most recent call last)",
      "Input \u001b[0;32mIn [67]\u001b[0m, in \u001b[0;36m<cell line: 1>\u001b[0;34m()\u001b[0m\n\u001b[0;32m----> 1\u001b[0m y_pred \u001b[38;5;241m=\u001b[39m model\u001b[38;5;241m.\u001b[39mpredict(\u001b[43mvalid_batch\u001b[49m\u001b[43m[\u001b[49m\u001b[38;5;241;43m0\u001b[39;49m\u001b[43m:\u001b[49m\u001b[38;5;241;43m10\u001b[39;49m\u001b[43m]\u001b[49m)\n",
      "File \u001b[0;32m~/.pyenv/versions/3.8.12/envs/DriverDrowsinessDetector/lib/python3.8/site-packages/keras_preprocessing/image/iterator.py:53\u001b[0m, in \u001b[0;36mIterator.__getitem__\u001b[0;34m(self, idx)\u001b[0m\n\u001b[1;32m     52\u001b[0m \u001b[38;5;28;01mdef\u001b[39;00m \u001b[38;5;21m__getitem__\u001b[39m(\u001b[38;5;28mself\u001b[39m, idx):\n\u001b[0;32m---> 53\u001b[0m     \u001b[38;5;28;01mif\u001b[39;00m \u001b[43midx\u001b[49m\u001b[43m \u001b[49m\u001b[38;5;241;43m>\u001b[39;49m\u001b[38;5;241;43m=\u001b[39;49m\u001b[43m \u001b[49m\u001b[38;5;28;43mlen\u001b[39;49m\u001b[43m(\u001b[49m\u001b[38;5;28;43mself\u001b[39;49m\u001b[43m)\u001b[49m:\n\u001b[1;32m     54\u001b[0m         \u001b[38;5;28;01mraise\u001b[39;00m \u001b[38;5;167;01mValueError\u001b[39;00m(\u001b[38;5;124m'\u001b[39m\u001b[38;5;124mAsked to retrieve element \u001b[39m\u001b[38;5;132;01m{idx}\u001b[39;00m\u001b[38;5;124m, \u001b[39m\u001b[38;5;124m'\u001b[39m\n\u001b[1;32m     55\u001b[0m                          \u001b[38;5;124m'\u001b[39m\u001b[38;5;124mbut the Sequence \u001b[39m\u001b[38;5;124m'\u001b[39m\n\u001b[1;32m     56\u001b[0m                          \u001b[38;5;124m'\u001b[39m\u001b[38;5;124mhas length \u001b[39m\u001b[38;5;132;01m{length}\u001b[39;00m\u001b[38;5;124m'\u001b[39m\u001b[38;5;241m.\u001b[39mformat(idx\u001b[38;5;241m=\u001b[39midx,\n\u001b[1;32m     57\u001b[0m                                                       length\u001b[38;5;241m=\u001b[39m\u001b[38;5;28mlen\u001b[39m(\u001b[38;5;28mself\u001b[39m)))\n\u001b[1;32m     58\u001b[0m     \u001b[38;5;28;01mif\u001b[39;00m \u001b[38;5;28mself\u001b[39m\u001b[38;5;241m.\u001b[39mseed \u001b[38;5;129;01mis\u001b[39;00m \u001b[38;5;129;01mnot\u001b[39;00m \u001b[38;5;28;01mNone\u001b[39;00m:\n",
      "\u001b[0;31mTypeError\u001b[0m: '>=' not supported between instances of 'slice' and 'int'"
     ]
    }
   ],
   "source": [
    "y_pred = model.predict(valid_batch[0:10])"
   ]
  },
  {
   "cell_type": "code",
   "execution_count": null,
   "id": "70d86364",
   "metadata": {},
   "outputs": [],
   "source": [
    "# Computing the probabilities of belonging to one of the 4 classes for the 10 000 images\n",
    "predicted_probabilities = model.predict(X_test) # shape = 10_000 X 4\n",
    "\n",
    "# Computing the predicted classes for all the images\n",
    "predicted_classes = np.argmax(predicted_probabilities, axis = 1) # shape = 10_000 , \n",
    "​\n",
    "# Confusion Matrix\n",
    "​\n",
    "from sklearn.metrics import confusion_matrix, ConfusionMatrixDisplay\n",
    "​\n",
    "​\n",
    "cm = confusion_matrix(y_test, predicted_classes)\n",
    "disp = ConfusionMatrixDisplay(confusion_matrix = cm,\n",
    "                              display_labels = np.arange(0,4+1));\n",
    "​\n",
    "fig, ax = plt.subplots(figsize=(10,10));\n",
    "disp.plot(cmap = \"PuRd\", ax = ax);"
   ]
  },
  {
   "cell_type": "code",
   "execution_count": null,
   "id": "71662a63",
   "metadata": {},
   "outputs": [],
   "source": [
    "model.save('models/cnnCat2.h5', overwrite=True)"
   ]
  }
 ],
 "metadata": {
  "kernelspec": {
   "display_name": "Python 3 (ipykernel)",
   "language": "python",
   "name": "python3"
  },
  "language_info": {
   "codemirror_mode": {
    "name": "ipython",
    "version": 3
   },
   "file_extension": ".py",
   "mimetype": "text/x-python",
   "name": "python",
   "nbconvert_exporter": "python",
   "pygments_lexer": "ipython3",
   "version": "3.8.12"
  },
  "toc": {
   "base_numbering": 1,
   "nav_menu": {},
   "number_sections": true,
   "sideBar": true,
   "skip_h1_title": false,
   "title_cell": "Table of Contents",
   "title_sidebar": "Contents",
   "toc_cell": false,
   "toc_position": {},
   "toc_section_display": true,
   "toc_window_display": false
  }
 },
 "nbformat": 4,
 "nbformat_minor": 5
}
