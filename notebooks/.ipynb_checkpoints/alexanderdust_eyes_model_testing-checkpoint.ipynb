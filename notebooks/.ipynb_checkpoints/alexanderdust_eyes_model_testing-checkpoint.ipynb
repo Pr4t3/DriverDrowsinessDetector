{
 "cells": [
  {
   "cell_type": "code",
   "execution_count": 3,
   "id": "13f3a2e9",
   "metadata": {},
   "outputs": [
    {
     "name": "stdout",
     "output_type": "stream",
     "text": [
      "/Users/alessandrorinaldi/code/Pr4t3/DriverDrowsinessDetector/notebooks\r\n"
     ]
    }
   ],
   "source": [
    "!pwd"
   ]
  },
  {
   "cell_type": "markdown",
   "id": "f58b13fc",
   "metadata": {},
   "source": [
    "## Model Testing"
   ]
  },
  {
   "cell_type": "code",
   "execution_count": 1,
   "id": "08f24a52",
   "metadata": {},
   "outputs": [],
   "source": [
    "import os\n",
    "import tensorflow\n",
    "from tensorflow.keras.preprocessing import image\n",
    "import matplotlib.pyplot as plt \n",
    "import numpy as np\n",
    "from keras.utils.np_utils import to_categorical\n",
    "import random,shutil\n",
    "from keras.models import Sequential\n",
    "from keras.layers import Dropout,Conv2D,Flatten,Dense, MaxPooling2D, BatchNormalization\n",
    "from keras.models import load_model\n",
    "\n",
    "\n",
    "def generator(dir, gen=image.ImageDataGenerator(rescale=1./255), shuffle=True,batch_size=1,target_size=(24,24),class_mode='categorical' ):\n",
    "\n",
    "    return gen.flow_from_directory(dir,batch_size=batch_size,shuffle=shuffle,color_mode='grayscale',class_mode=class_mode,target_size=target_size)"
   ]
  },
  {
   "cell_type": "code",
   "execution_count": 3,
   "id": "cd435ae0",
   "metadata": {},
   "outputs": [
    {
     "name": "stdout",
     "output_type": "stream",
     "text": [
      "Found 1234 images belonging to 2 classes.\n",
      "Found 218 images belonging to 2 classes.\n",
      "38 6\n"
     ]
    }
   ],
   "source": [
    "BS= 32\n",
    "TS=(24,24)\n",
    "train_batch= generator('../raw_data/eyes/train_eyes',shuffle=True, batch_size=BS,target_size=TS)\n",
    "valid_batch= generator('../raw_data/eyes/test_eyes',shuffle=True, batch_size=BS,target_size=TS)\n",
    "SPE= len(train_batch.classes)//BS\n",
    "VS = len(valid_batch.classes)//BS\n",
    "print(SPE,VS)"
   ]
  },
  {
   "cell_type": "code",
   "execution_count": 4,
   "id": "1f5fa2bc",
   "metadata": {},
   "outputs": [
    {
     "ename": "IndexError",
     "evalue": "index 2000 is out of bounds for axis 0 with size 1234",
     "output_type": "error",
     "traceback": [
      "\u001b[0;31m---------------------------------------------------------------------------\u001b[0m",
      "\u001b[0;31mIndexError\u001b[0m                                Traceback (most recent call last)",
      "Input \u001b[0;32mIn [4]\u001b[0m, in \u001b[0;36m<cell line: 1>\u001b[0;34m()\u001b[0m\n\u001b[0;32m----> 1\u001b[0m \u001b[43mtrain_batch\u001b[49m\u001b[38;5;241;43m.\u001b[39;49m\u001b[43mclasses\u001b[49m\u001b[43m[\u001b[49m\u001b[38;5;241;43m2000\u001b[39;49m\u001b[43m]\u001b[49m\n",
      "\u001b[0;31mIndexError\u001b[0m: index 2000 is out of bounds for axis 0 with size 1234"
     ]
    }
   ],
   "source": [
    "train_batch.classes[2000]"
   ]
  },
  {
   "cell_type": "code",
   "execution_count": 5,
   "id": "ae63dab9",
   "metadata": {},
   "outputs": [
    {
     "data": {
      "text/plain": [
       "<tensorflow.python.keras.preprocessing.image.DirectoryIterator at 0x1bff414f0>"
      ]
     },
     "execution_count": 5,
     "metadata": {},
     "output_type": "execute_result"
    }
   ],
   "source": [
    "train_batch"
   ]
  },
  {
   "cell_type": "code",
   "execution_count": null,
   "id": "1468c69f",
   "metadata": {},
   "outputs": [],
   "source": [
    "train_batch."
   ]
  },
  {
   "cell_type": "code",
   "execution_count": 43,
   "id": "0dc1701c",
   "metadata": {},
   "outputs": [
    {
     "data": {
      "text/plain": [
       "(24, 24, 1)"
      ]
     },
     "execution_count": 43,
     "metadata": {},
     "output_type": "execute_result"
    }
   ],
   "source": [
    "valid_batch[0][0][0].shape"
   ]
  },
  {
   "cell_type": "code",
   "execution_count": 30,
   "id": "667b93d7",
   "metadata": {},
   "outputs": [
    {
     "name": "stdout",
     "output_type": "stream",
     "text": [
      "(32, 24, 24, 1)\n"
     ]
    }
   ],
   "source": [
    "img,labels= next(train_batch)\n",
    "print(img.shape)"
   ]
  },
  {
   "cell_type": "code",
   "execution_count": 9,
   "id": "2d095921",
   "metadata": {},
   "outputs": [],
   "source": [
    "# Model \n",
    "model = Sequential([\n",
    "    Conv2D(32, kernel_size=(3, 3), activation='relu', input_shape=(24,24,1)),\n",
    "    MaxPooling2D(pool_size=(1,1)),\n",
    "    Conv2D(32,(3,3),activation='relu'),\n",
    "    MaxPooling2D(pool_size=(1,1)),\n",
    "#32 convolution filters used each of size 3x3\n",
    "#again\n",
    "    Conv2D(64, (3, 3), activation='relu'),\n",
    "    MaxPooling2D(pool_size=(1,1)),\n",
    "\n",
    "#64 convolution filters used each of size 3x3\n",
    "#choose the best features via pooling\n",
    "    \n",
    "#randomly turn neurons on and off to improve convergence\n",
    "    Dropout(0.25),\n",
    "#flatten since too many dimensions, we only want a classification output\n",
    "    Flatten(),\n",
    "#fully connected to get all relevant data\n",
    "    Dense(128, activation='relu'),\n",
    "#one more dropout for convergence' sake :) \n",
    "    Dropout(0.5),\n",
    "#output a softmax to squash the matrix into output probabilities\n",
    "    Dense(2, activation='softmax')\n",
    "])"
   ]
  },
  {
   "cell_type": "code",
   "execution_count": 10,
   "id": "65a7f791",
   "metadata": {},
   "outputs": [],
   "source": [
    "recall = tensorflow.keras.metrics.Recall(\n",
    "    thresholds=None, top_k=None, class_id=None, name=None, dtype=None\n",
    ")"
   ]
  },
  {
   "cell_type": "code",
   "execution_count": 11,
   "id": "eb2667c2",
   "metadata": {},
   "outputs": [],
   "source": [
    "model.compile(optimizer='adam',loss='binary_crossentropy',metrics=[recall])"
   ]
  },
  {
   "cell_type": "code",
   "execution_count": 12,
   "id": "87d0dd02",
   "metadata": {
    "scrolled": false
   },
   "outputs": [
    {
     "name": "stderr",
     "output_type": "stream",
     "text": [
      "/Users/alessandrorinaldi/.pyenv/versions/3.8.12/envs/DriverDrowsinessDetector/lib/python3.8/site-packages/keras/engine/training.py:1915: UserWarning: `Model.fit_generator` is deprecated and will be removed in a future version. Please use `Model.fit`, which supports generators.\n",
      "  warnings.warn('`Model.fit_generator` is deprecated and '\n",
      "2022-03-02 16:55:20.060241: I tensorflow/compiler/mlir/mlir_graph_optimization_pass.cc:176] None of the MLIR Optimization Passes are enabled (registered 2)\n"
     ]
    },
    {
     "name": "stdout",
     "output_type": "stream",
     "text": [
      "Epoch 1/15\n",
      "38/38 [==============================] - 14s 89ms/step - loss: 0.5876 - recall_1: 0.6211 - val_loss: 0.1899 - val_recall_1: 0.8108\n",
      "Epoch 2/15\n",
      "38/38 [==============================] - 2s 65ms/step - loss: 0.2179 - recall_1: 0.8337 - val_loss: 0.1663 - val_recall_1: 0.8676\n",
      "Epoch 3/15\n",
      "38/38 [==============================] - 2s 62ms/step - loss: 0.1704 - recall_1: 0.8764 - val_loss: 0.1402 - val_recall_1: 0.8941\n",
      "Epoch 4/15\n",
      "38/38 [==============================] - 2s 64ms/step - loss: 0.1198 - recall_1: 0.8993 - val_loss: 0.1026 - val_recall_1: 0.9102\n",
      "Epoch 5/15\n",
      "38/38 [==============================] - 2s 62ms/step - loss: 0.0883 - recall_1: 0.9137 - val_loss: 0.1142 - val_recall_1: 0.9207\n",
      "Epoch 6/15\n",
      "38/38 [==============================] - 2s 63ms/step - loss: 0.0933 - recall_1: 0.9232 - val_loss: 0.1103 - val_recall_1: 0.9281\n",
      "Epoch 7/15\n",
      "38/38 [==============================] - 2s 58ms/step - loss: 0.0534 - recall_1: 0.9301 - val_loss: 0.1441 - val_recall_1: 0.9346\n",
      "Epoch 8/15\n",
      "38/38 [==============================] - 2s 63ms/step - loss: 0.0542 - recall_1: 0.9362 - val_loss: 0.1470 - val_recall_1: 0.9397\n",
      "Epoch 9/15\n",
      "38/38 [==============================] - 2s 64ms/step - loss: 0.0486 - recall_1: 0.9411 - val_loss: 0.0797 - val_recall_1: 0.9441\n",
      "Epoch 10/15\n",
      "38/38 [==============================] - 2s 63ms/step - loss: 0.0353 - recall_1: 0.9454 - val_loss: 0.1073 - val_recall_1: 0.9485\n",
      "Epoch 11/15\n",
      "38/38 [==============================] - 2s 61ms/step - loss: 0.0389 - recall_1: 0.9494 - val_loss: 0.0717 - val_recall_1: 0.9515\n",
      "Epoch 12/15\n",
      "38/38 [==============================] - 2s 62ms/step - loss: 0.0231 - recall_1: 0.9524 - val_loss: 0.1006 - val_recall_1: 0.9546\n",
      "Epoch 13/15\n",
      "38/38 [==============================] - 2s 60ms/step - loss: 0.0138 - recall_1: 0.9555 - val_loss: 0.1118 - val_recall_1: 0.9576\n",
      "Epoch 14/15\n",
      "38/38 [==============================] - 2s 60ms/step - loss: 0.0266 - recall_1: 0.9583 - val_loss: 0.0636 - val_recall_1: 0.9601\n",
      "Epoch 15/15\n",
      "38/38 [==============================] - 2s 62ms/step - loss: 0.0232 - recall_1: 0.9606 - val_loss: 0.1186 - val_recall_1: 0.9620\n"
     ]
    },
    {
     "data": {
      "text/plain": [
       "<keras.callbacks.History at 0x1c3c3d7c0>"
      ]
     },
     "execution_count": 12,
     "metadata": {},
     "output_type": "execute_result"
    }
   ],
   "source": [
    "model.fit_generator(train_batch, validation_data=valid_batch,epochs=15,steps_per_epoch=SPE ,validation_steps=VS)"
   ]
  },
  {
   "cell_type": "code",
   "execution_count": 16,
   "id": "c227f7a8",
   "metadata": {},
   "outputs": [],
   "source": [
    "model.save('../models/model_eyes.h5', overwrite=True)"
   ]
  },
  {
   "cell_type": "code",
   "execution_count": 36,
   "id": "b511556b",
   "metadata": {
    "collapsed": true
   },
   "outputs": [
    {
     "name": "stdout",
     "output_type": "stream",
     "text": [
      "Epoch 1/15\n",
      "77/77 [==============================] - 6s 79ms/step - loss: 0.4266 - recall_1: 0.7225\n",
      "Epoch 2/15\n",
      "77/77 [==============================] - 6s 77ms/step - loss: 0.3478 - recall_1: 0.7293\n",
      "Epoch 3/15\n",
      "77/77 [==============================] - 6s 75ms/step - loss: 0.3127 - recall_1: 0.7367\n",
      "Epoch 4/15\n",
      "77/77 [==============================] - 6s 72ms/step - loss: 0.2912 - recall_1: 0.7444\n",
      "Epoch 5/15\n",
      "77/77 [==============================] - 5s 71ms/step - loss: 0.2543 - recall_1: 0.7523\n",
      "Epoch 6/15\n",
      "77/77 [==============================] - 6s 72ms/step - loss: 0.2243 - recall_1: 0.7602\n",
      "Epoch 7/15\n",
      "77/77 [==============================] - 6s 72ms/step - loss: 0.2099 - recall_1: 0.7681\n",
      "Epoch 8/15\n",
      "57/77 [=====================>........] - ETA: 1s - loss: 0.1536 - recall_1: 0.7754"
     ]
    },
    {
     "name": "stderr",
     "output_type": "stream",
     "text": [
      "\n",
      "KeyboardInterrupt\n",
      "\n"
     ]
    }
   ],
   "source": [
    "#model.fit(train_batch, y=None, validation_data=valid_batch,epochs=15,steps_per_epoch=SPE)"
   ]
  },
  {
   "cell_type": "code",
   "execution_count": 13,
   "id": "44860ea7",
   "metadata": {},
   "outputs": [
    {
     "name": "stderr",
     "output_type": "stream",
     "text": [
      "/Users/alessandrorinaldi/.pyenv/versions/3.8.12/envs/DriverDrowsinessDetector/lib/python3.8/site-packages/keras/engine/sequential.py:450: UserWarning: `model.predict_classes()` is deprecated and will be removed after 2021-01-01. Please use instead:* `np.argmax(model.predict(x), axis=-1)`,   if your model does multi-class classification   (e.g. if it uses a `softmax` last-layer activation).* `(model.predict(x) > 0.5).astype(\"int32\")`,   if your model does binary classification   (e.g. if it uses a `sigmoid` last-layer activation).\n",
      "  warnings.warn('`model.predict_classes()` is deprecated and '\n"
     ]
    }
   ],
   "source": []
  },
  {
   "cell_type": "code",
   "execution_count": 65,
   "id": "dc2e3520",
   "metadata": {},
   "outputs": [],
   "source": []
  },
  {
   "cell_type": "markdown",
   "id": "8e79d195",
   "metadata": {},
   "source": [
    "## Notes "
   ]
  },
  {
   "cell_type": "code",
   "execution_count": null,
   "id": "70d86364",
   "metadata": {},
   "outputs": [],
   "source": [
    "y_pred = model.predict_classes(valid_batch[0][0])\n",
    "y_pred\n",
    "\n",
    "\n",
    "y_pred = np.argmax(model.predict(valid_batch[0][0]), axis=-1)\n",
    "y_pred"
   ]
  },
  {
   "cell_type": "code",
   "execution_count": null,
   "id": "268460dd",
   "metadata": {},
   "outputs": [],
   "source": [
    "\n",
    "# Computing the probabilities of belonging to one of the 4 classes for the 10 000 images\n",
    "predicted_probabilities = model.predict(X_test) # shape = 10_000 X 4\n",
    "\n",
    "# Computing the predicted classes for all the images\n",
    "predicted_classes = np.argmax(predicted_probabilities, axis = 1) # shape = 10_000 , \n",
    "\n",
    "# Confusion Matrix\n",
    "\n",
    "from sklearn.metrics import confusion_matrix, ConfusionMatrixDisplay\n",
    "\n",
    "cm = confusion_matrix(y_test, predicted_classes)\n",
    "disp = ConfusionMatrixDisplay(confusion_matrix = cm,\n",
    "                              display_labels = np.arange(0,4+1));\n",
    "\n",
    "fig, ax = plt.subplots(figsize=(10,10));\n",
    "disp.plot(cmap = \"PuRd\", ax = ax);"
   ]
  },
  {
   "cell_type": "code",
   "execution_count": 12,
   "id": "71662a63",
   "metadata": {},
   "outputs": [],
   "source": []
  }
 ],
 "metadata": {
  "kernelspec": {
   "display_name": "Python 3 (ipykernel)",
   "language": "python",
   "name": "python3"
  },
  "language_info": {
   "codemirror_mode": {
    "name": "ipython",
    "version": 3
   },
   "file_extension": ".py",
   "mimetype": "text/x-python",
   "name": "python",
   "nbconvert_exporter": "python",
   "pygments_lexer": "ipython3",
   "version": "3.8.12"
  },
  "toc": {
   "base_numbering": 1,
   "nav_menu": {},
   "number_sections": true,
   "sideBar": true,
   "skip_h1_title": false,
   "title_cell": "Table of Contents",
   "title_sidebar": "Contents",
   "toc_cell": false,
   "toc_position": {},
   "toc_section_display": true,
   "toc_window_display": false
  }
 },
 "nbformat": 4,
 "nbformat_minor": 5
}
