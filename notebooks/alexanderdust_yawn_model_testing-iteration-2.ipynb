{
 "cells": [
  {
   "cell_type": "code",
   "execution_count": 34,
   "id": "8ebdc5d3",
   "metadata": {
    "scrolled": true
   },
   "outputs": [],
   "source": [
    "import os\n",
    "import tensorflow\n",
    "import matplotlib.pyplot as plt\n",
    "from tensorflow.keras.preprocessing import image\n",
    "import matplotlib.pyplot as plt\n",
    "import numpy as np\n",
    "from keras.utils.np_utils import to_categorical\n",
    "import random,shutil\n",
    "from keras.models import Sequential\n",
    "from keras.layers import Dropout,Conv2D,Flatten,Dense, MaxPooling2D, BatchNormalization\n",
    "from keras.models import load_model\n",
    "from tensorflow.keras import optimizers\n",
    "from tensorflow.keras import callbacks"
   ]
  },
  {
   "cell_type": "code",
   "execution_count": 69,
   "id": "0ef1161f",
   "metadata": {},
   "outputs": [],
   "source": [
    "def generator(dir, \n",
    "              gen=image.ImageDataGenerator(rescale=1./255), \n",
    "              shuffle=True,batch_size=1,\n",
    "              target_size=(24,24),\n",
    "              class_mode='categorical' ):\n",
    "\n",
    "    return gen.flow_from_directory(dir,\n",
    "                                   batch_size=batch_size,\n",
    "                                   shuffle=shuffle,\n",
    "                                   color_mode='grayscale',\n",
    "                                   class_mode=class_mode,\n",
    "                                   target_size=target_size)"
   ]
  },
  {
   "cell_type": "code",
   "execution_count": 70,
   "id": "eae0342e",
   "metadata": {},
   "outputs": [
    {
     "name": "stdout",
     "output_type": "stream",
     "text": [
      "Found 498 images belonging to 2 classes.\n",
      "Found 78 images belonging to 2 classes.\n",
      "Found 40 images belonging to 2 classes.\n",
      "15 2\n"
     ]
    }
   ],
   "source": [
    "BS= 32\n",
    "TS=(24,24)\n",
    "train_batch= generator('../raw_data/yawn/train_yawn',shuffle=True, batch_size=BS,target_size=TS)\n",
    "valid_batch= generator('../raw_data/yawn/valid_yawn',shuffle=True, batch_size=BS,target_size=TS)\n",
    "test_batch = generator('../raw_data/yawn/test_yawn',shuffle=True, batch_size=BS,target_size=TS)\n",
    "SPE= len(train_batch.classes)//BS\n",
    "VS = len(valid_batch.classes)//BS\n",
    "print(SPE,VS)\n"
   ]
  },
  {
   "cell_type": "code",
   "execution_count": 71,
   "id": "f0bd1887",
   "metadata": {},
   "outputs": [
    {
     "name": "stdout",
     "output_type": "stream",
     "text": [
      "Found 78 images belonging to 2 classes.\n"
     ]
    }
   ],
   "source": [
    "pred_batch= generator('../raw_data/yawn/valid_yawn',shuffle=True, batch_size=4,target_size=TS)\n"
   ]
  },
  {
   "cell_type": "code",
   "execution_count": 39,
   "id": "ff92ca2d",
   "metadata": {},
   "outputs": [],
   "source": [
    "recall = tensorflow.keras.metrics.Recall(thresholds=None, top_k=None, class_id=None, name=None, dtype=None)\n",
    "es = callbacks.EarlyStopping(patience=20, restore_best_weights=True)"
   ]
  },
  {
   "cell_type": "code",
   "execution_count": 40,
   "id": "bb9e7654",
   "metadata": {},
   "outputs": [],
   "source": [
    "def model_y():\n",
    "    model = Sequential([\n",
    "        Conv2D(32, kernel_size=(3, 3), activation='relu', input_shape=(24,24,1)),\n",
    "        MaxPooling2D(pool_size=(2,2), strides = 2, padding=\"same\"),\n",
    "\n",
    "        Conv2D(32,(3,3),activation='relu'),\n",
    "        #MaxPooling2D(pool_size=(2,2), strides = 2, padding=\"same\"),\n",
    "\n",
    "    #32 convolution filters used each of size 3x3\n",
    "    #again\n",
    "        Conv2D(64, (3, 3), activation='relu'),\n",
    "        #MaxPooling2D(pool_size=(2,2), strides = 2, padding=\"same\"),\n",
    "\n",
    "    #64 convolution filters used each of size 3x3\n",
    "    #choose the best features via pooling\n",
    "\n",
    "    #randomly turn neurons on and off to improve convergence\n",
    "        #Dropout(0.25),\n",
    "    #flatten since too many dimensions, we only want a classification output\n",
    "        Flatten(),\n",
    "    #fully connected to get all relevant data\n",
    "        Dense(128, activation='relu'),\n",
    "    #one more dropout for convergence' sake :) \n",
    "        #Dropout(0.5),\n",
    "    #output a softmax to squash the matrix into output probabilities\n",
    "        Dense(2, activation='softmax')\n",
    "    ])\n",
    "    \n",
    "    model.compile(loss=\"categorical_crossentropy\", metrics=[recall], optimizer='adam')\n",
    "\n",
    "    return model"
   ]
  },
  {
   "cell_type": "code",
   "execution_count": 41,
   "id": "4d8f46e0",
   "metadata": {
    "scrolled": true
   },
   "outputs": [],
   "source": [
    "model_yawn = model_y()"
   ]
  },
  {
   "cell_type": "code",
   "execution_count": 42,
   "id": "47b4f195",
   "metadata": {
    "scrolled": true
   },
   "outputs": [
    {
     "name": "stdout",
     "output_type": "stream",
     "text": [
      "Epoch 1/50\n",
      "15/15 [==============================] - 2s 54ms/step - loss: 0.6887 - recall_4: 0.5429 - val_loss: 0.6237 - val_recall_4: 0.6334\n",
      "Epoch 2/50\n",
      "15/15 [==============================] - 0s 24ms/step - loss: 0.5871 - recall_4: 0.6487 - val_loss: 0.4988 - val_recall_4: 0.6933\n",
      "Epoch 3/50\n",
      "15/15 [==============================] - 0s 26ms/step - loss: 0.4220 - recall_4: 0.7065 - val_loss: 0.2948 - val_recall_4: 0.7390\n",
      "Epoch 4/50\n",
      "15/15 [==============================] - 0s 25ms/step - loss: 0.4079 - recall_4: 0.7469 - val_loss: 0.3010 - val_recall_4: 0.7665\n",
      "Epoch 5/50\n",
      "15/15 [==============================] - 0s 27ms/step - loss: 0.2756 - recall_4: 0.7745 - val_loss: 0.2755 - val_recall_4: 0.7872\n",
      "Epoch 6/50\n",
      "15/15 [==============================] - 0s 23ms/step - loss: 0.2565 - recall_4: 0.7936 - val_loss: 0.3320 - val_recall_4: 0.8073\n",
      "Epoch 7/50\n",
      "15/15 [==============================] - 0s 25ms/step - loss: 0.2280 - recall_4: 0.8116 - val_loss: 0.3086 - val_recall_4: 0.8234\n",
      "Epoch 8/50\n",
      "15/15 [==============================] - 0s 23ms/step - loss: 0.2024 - recall_4: 0.8268 - val_loss: 0.1793 - val_recall_4: 0.8338\n",
      "Epoch 9/50\n",
      "15/15 [==============================] - 0s 24ms/step - loss: 0.1845 - recall_4: 0.8373 - val_loss: 0.2478 - val_recall_4: 0.8456\n",
      "Epoch 10/50\n",
      "15/15 [==============================] - 0s 24ms/step - loss: 0.1182 - recall_4: 0.8497 - val_loss: 0.2486 - val_recall_4: 0.8574\n",
      "Epoch 11/50\n",
      "15/15 [==============================] - 0s 24ms/step - loss: 0.1456 - recall_4: 0.8599 - val_loss: 0.2470 - val_recall_4: 0.8656\n",
      "Epoch 12/50\n",
      "15/15 [==============================] - 0s 24ms/step - loss: 0.1431 - recall_4: 0.8684 - val_loss: 0.2405 - val_recall_4: 0.8740\n",
      "Epoch 13/50\n",
      "15/15 [==============================] - 0s 24ms/step - loss: 0.1052 - recall_4: 0.8763 - val_loss: 0.0930 - val_recall_4: 0.8810\n",
      "Epoch 14/50\n",
      "15/15 [==============================] - 0s 24ms/step - loss: 0.0801 - recall_4: 0.8831 - val_loss: 0.2254 - val_recall_4: 0.8871\n",
      "Epoch 15/50\n",
      "15/15 [==============================] - 0s 24ms/step - loss: 0.0922 - recall_4: 0.8890 - val_loss: 0.2080 - val_recall_4: 0.8932\n",
      "Epoch 16/50\n",
      "15/15 [==============================] - 0s 23ms/step - loss: 0.0526 - recall_4: 0.8952 - val_loss: 0.2522 - val_recall_4: 0.8984\n",
      "Epoch 17/50\n",
      "15/15 [==============================] - 0s 25ms/step - loss: 0.0508 - recall_4: 0.9002 - val_loss: 0.2448 - val_recall_4: 0.9037\n",
      "Epoch 18/50\n",
      "15/15 [==============================] - 0s 25ms/step - loss: 0.0314 - recall_4: 0.9052 - val_loss: 0.3751 - val_recall_4: 0.9079\n",
      "Epoch 19/50\n",
      "15/15 [==============================] - 0s 24ms/step - loss: 0.0704 - recall_4: 0.9087 - val_loss: 0.2396 - val_recall_4: 0.9112\n",
      "Epoch 20/50\n",
      "15/15 [==============================] - 0s 23ms/step - loss: 0.0258 - recall_4: 0.9125 - val_loss: 0.2386 - val_recall_4: 0.9153\n",
      "Epoch 21/50\n",
      "15/15 [==============================] - 0s 23ms/step - loss: 0.0428 - recall_4: 0.9163 - val_loss: 0.2993 - val_recall_4: 0.9187\n",
      "Epoch 22/50\n",
      "15/15 [==============================] - 0s 24ms/step - loss: 0.0569 - recall_4: 0.9196 - val_loss: 0.2759 - val_recall_4: 0.9211\n",
      "Epoch 23/50\n",
      "15/15 [==============================] - 0s 25ms/step - loss: 0.0388 - recall_4: 0.9219 - val_loss: 0.3122 - val_recall_4: 0.9233\n",
      "Epoch 24/50\n",
      "15/15 [==============================] - 0s 23ms/step - loss: 0.0474 - recall_4: 0.9242 - val_loss: 0.2606 - val_recall_4: 0.9258\n",
      "Epoch 25/50\n",
      "15/15 [==============================] - 0s 24ms/step - loss: 0.0161 - recall_4: 0.9267 - val_loss: 0.2773 - val_recall_4: 0.9284\n",
      "Epoch 26/50\n",
      "15/15 [==============================] - 0s 26ms/step - loss: 0.0150 - recall_4: 0.9292 - val_loss: 0.2980 - val_recall_4: 0.9309\n",
      "Epoch 27/50\n",
      "15/15 [==============================] - 0s 25ms/step - loss: 0.0077 - recall_4: 0.9316 - val_loss: 0.3076 - val_recall_4: 0.9332\n",
      "Epoch 28/50\n",
      "15/15 [==============================] - 0s 23ms/step - loss: 0.0074 - recall_4: 0.9339 - val_loss: 0.3214 - val_recall_4: 0.9355\n",
      "Epoch 29/50\n",
      "15/15 [==============================] - 0s 25ms/step - loss: 0.0096 - recall_4: 0.9361 - val_loss: 0.3101 - val_recall_4: 0.9374\n",
      "Epoch 30/50\n",
      "15/15 [==============================] - 0s 24ms/step - loss: 0.0045 - recall_4: 0.9380 - val_loss: 0.3287 - val_recall_4: 0.9393\n",
      "Epoch 31/50\n",
      "15/15 [==============================] - 0s 24ms/step - loss: 0.0044 - recall_4: 0.9399 - val_loss: 0.3256 - val_recall_4: 0.9410\n",
      "Epoch 32/50\n",
      "15/15 [==============================] - 0s 24ms/step - loss: 0.0044 - recall_4: 0.9416 - val_loss: 0.3336 - val_recall_4: 0.9427\n",
      "Epoch 33/50\n",
      "15/15 [==============================] - 0s 29ms/step - loss: 0.0022 - recall_4: 0.9432 - val_loss: 0.3413 - val_recall_4: 0.9444\n"
     ]
    }
   ],
   "source": [
    "history = model_yawn.fit(train_batch, \n",
    "                      validation_data=valid_batch, shuffle = True,\n",
    "                      epochs=50,steps_per_epoch=SPE, \n",
    "                      validation_steps=VS, \n",
    "                      callbacks=[es])"
   ]
  },
  {
   "cell_type": "code",
   "execution_count": 45,
   "id": "2025ccb2",
   "metadata": {
    "collapsed": true
   },
   "outputs": [
    {
     "data": {
      "text/plain": [
       "{'loss': [0.6756247282028198,\n",
       "  0.5404249429702759,\n",
       "  0.3771577775478363,\n",
       "  0.3707066774368286,\n",
       "  0.316884845495224,\n",
       "  0.2415078729391098,\n",
       "  0.20816276967525482,\n",
       "  0.22335518896579742,\n",
       "  0.1776890605688095,\n",
       "  0.1182829886674881,\n",
       "  0.1429125964641571,\n",
       "  0.11414849013090134,\n",
       "  0.11108577996492386,\n",
       "  0.09834364056587219,\n",
       "  0.07590170204639435,\n",
       "  0.07084818929433823,\n",
       "  0.05552195385098457,\n",
       "  0.04001864790916443,\n",
       "  0.059975747019052505,\n",
       "  0.031616028398275375,\n",
       "  0.034121498465538025,\n",
       "  0.08566924929618835,\n",
       "  0.04792259633541107,\n",
       "  0.04316962510347366,\n",
       "  0.01934371329843998,\n",
       "  0.014764579944312572,\n",
       "  0.008167228661477566,\n",
       "  0.008101196028292179,\n",
       "  0.011480356566607952,\n",
       "  0.005249490961432457,\n",
       "  0.004776426125317812,\n",
       "  0.003700172295793891,\n",
       "  0.0027323823887854815],\n",
       " 'recall_4': [0.5612664818763733,\n",
       "  0.6612950563430786,\n",
       "  0.716377854347229,\n",
       "  0.7514075040817261,\n",
       "  0.7783699035644531,\n",
       "  0.7978007197380066,\n",
       "  0.8149378299713135,\n",
       "  0.8286368250846863,\n",
       "  0.839772641658783,\n",
       "  0.8519430756568909,\n",
       "  0.8615550994873047,\n",
       "  0.8699541091918945,\n",
       "  0.8776938319206238,\n",
       "  0.8843298554420471,\n",
       "  0.8902531266212463,\n",
       "  0.8961948752403259,\n",
       "  0.9011977910995483,\n",
       "  0.906116783618927,\n",
       "  0.9093605875968933,\n",
       "  0.91330885887146,\n",
       "  0.9169801473617554,\n",
       "  0.9200021624565125,\n",
       "  0.9224318265914917,\n",
       "  0.9246180653572083,\n",
       "  0.9272095561027527,\n",
       "  0.9297609329223633,\n",
       "  0.932134211063385,\n",
       "  0.9343986511230469,\n",
       "  0.9364869594573975,\n",
       "  0.9384028315544128,\n",
       "  0.9402386546134949,\n",
       "  0.9419577121734619,\n",
       "  0.9435709118843079],\n",
       " 'val_loss': [0.6236504912376404,\n",
       "  0.4987926483154297,\n",
       "  0.29479357600212097,\n",
       "  0.3010386824607849,\n",
       "  0.27547594904899597,\n",
       "  0.3320028483867645,\n",
       "  0.30859479308128357,\n",
       "  0.1793142557144165,\n",
       "  0.24778702855110168,\n",
       "  0.2486068606376648,\n",
       "  0.2469962239265442,\n",
       "  0.24046385288238525,\n",
       "  0.09298878908157349,\n",
       "  0.22542020678520203,\n",
       "  0.20800602436065674,\n",
       "  0.25222116708755493,\n",
       "  0.24478694796562195,\n",
       "  0.37509965896606445,\n",
       "  0.23961392045021057,\n",
       "  0.2386334240436554,\n",
       "  0.2993054687976837,\n",
       "  0.27586692571640015,\n",
       "  0.31224703788757324,\n",
       "  0.26056578755378723,\n",
       "  0.27726075053215027,\n",
       "  0.2979750633239746,\n",
       "  0.30757564306259155,\n",
       "  0.3214493691921234,\n",
       "  0.310077965259552,\n",
       "  0.3286731243133545,\n",
       "  0.32557493448257446,\n",
       "  0.3336426615715027,\n",
       "  0.3412693738937378],\n",
       " 'val_recall_4': [0.6334444284439087,\n",
       "  0.6932691335678101,\n",
       "  0.7389628887176514,\n",
       "  0.766520619392395,\n",
       "  0.7871935367584229,\n",
       "  0.8072693943977356,\n",
       "  0.8233539462089539,\n",
       "  0.8337640166282654,\n",
       "  0.8456365466117859,\n",
       "  0.8573985695838928,\n",
       "  0.865647554397583,\n",
       "  0.8740165829658508,\n",
       "  0.8810244798660278,\n",
       "  0.8870985507965088,\n",
       "  0.893180251121521,\n",
       "  0.8984426259994507,\n",
       "  0.9037351608276367,\n",
       "  0.9079252481460571,\n",
       "  0.911227822303772,\n",
       "  0.9153316020965576,\n",
       "  0.9187309741973877,\n",
       "  0.921093225479126,\n",
       "  0.923332154750824,\n",
       "  0.9258167743682861,\n",
       "  0.9284044504165649,\n",
       "  0.9309020042419434,\n",
       "  0.9332495331764221,\n",
       "  0.9354631900787354,\n",
       "  0.9373618364334106,\n",
       "  0.9392911195755005,\n",
       "  0.9410351514816284,\n",
       "  0.9426997303962708,\n",
       "  0.9443651437759399]}"
      ]
     },
     "execution_count": 45,
     "metadata": {},
     "output_type": "execute_result"
    }
   ],
   "source": [
    "history.history"
   ]
  },
  {
   "cell_type": "code",
   "execution_count": 68,
   "id": "3015bc1f",
   "metadata": {},
   "outputs": [
    {
     "name": "stdout",
     "output_type": "stream",
     "text": [
      "2/2 [==============================] - 0s 7ms/step - loss: 0.1264 - recall_4: 0.9516\n"
     ]
    }
   ],
   "source": [
    "res = model_yawn.evaluate(test_batch, steps=len(test_batch)) "
   ]
  },
  {
   "cell_type": "code",
   "execution_count": 65,
   "id": "e89366ed",
   "metadata": {
    "scrolled": true
   },
   "outputs": [
    {
     "data": {
      "text/plain": [
       "<function matplotlib.pyplot.show(close=None, block=None)>"
      ]
     },
     "execution_count": 65,
     "metadata": {},
     "output_type": "execute_result"
    },
    {
     "data": {
      "image/png": "[encoded data removed]",
      "text/plain": [
       "<Figure size 432x288 with 1 Axes>"
      ]
     },
     "metadata": {
      "needs_background": "light"
     },
     "output_type": "display_data"
    }
   ],
   "source": [
    "plt.plot(history.history['loss'], label ='loss')\n",
    "plt.plot(history.history['recall_4'], label ='recall')\n",
    "plt.legend()\n",
    "plt.show"
   ]
  },
  {
   "cell_type": "code",
   "execution_count": 66,
   "id": "498eea2a",
   "metadata": {},
   "outputs": [
    {
     "data": {
      "text/plain": [
       "<function matplotlib.pyplot.show(close=None, block=None)>"
      ]
     },
     "execution_count": 66,
     "metadata": {},
     "output_type": "execute_result"
    },
    {
     "data": {
      "image/png": "[encoded data removed]",
      "text/plain": [
       "<Figure size 432x288 with 1 Axes>"
      ]
     },
     "metadata": {
      "needs_background": "light"
     },
     "output_type": "display_data"
    }
   ],
   "source": [
    "plt.plot(history.history['val_loss'], label ='validation loss')\n",
    "plt.plot(history.history['val_recall_4'], label ='validation recall')\n",
    "plt.legend()\n",
    "plt.show"
   ]
  },
  {
   "cell_type": "code",
   "execution_count": 61,
   "id": "8b01a45a",
   "metadata": {},
   "outputs": [],
   "source": [
    "model.save('../models/model_yawn.h5', overwrite=True)"
   ]
  }
 ],
 "metadata": {
  "kernelspec": {
   "display_name": "Python 3 (ipykernel)",
   "language": "python",
   "name": "python3"
  },
  "language_info": {
   "codemirror_mode": {
    "name": "ipython",
    "version": 3
   },
   "file_extension": ".py",
   "mimetype": "text/x-python",
   "name": "python",
   "nbconvert_exporter": "python",
   "pygments_lexer": "ipython3",
   "version": "3.8.12"
  },
  "toc": {
   "base_numbering": 1,
   "nav_menu": {},
   "number_sections": true,
   "sideBar": true,
   "skip_h1_title": false,
   "title_cell": "Table of Contents",
   "title_sidebar": "Contents",
   "toc_cell": false,
   "toc_position": {},
   "toc_section_display": true,
   "toc_window_display": false
  }
 },
 "nbformat": 4,
 "nbformat_minor": 5
}
