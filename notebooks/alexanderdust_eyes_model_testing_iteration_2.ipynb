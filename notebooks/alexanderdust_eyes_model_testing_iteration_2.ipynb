{
 "cells": [
  {
   "cell_type": "code",
   "execution_count": 3,
   "id": "13f3a2e9",
   "metadata": {},
   "outputs": [
    {
     "name": "stdout",
     "output_type": "stream",
     "text": [
      "/Users/alessandrorinaldi/code/Pr4t3/DriverDrowsinessDetector/notebooks\r\n"
     ]
    }
   ],
   "source": [
    "!pwd"
   ]
  },
  {
   "cell_type": "markdown",
   "id": "f58b13fc",
   "metadata": {},
   "source": [
    "## Model Testing"
   ]
  },
  {
   "cell_type": "code",
   "execution_count": null,
   "id": "9ddc1612",
   "metadata": {},
   "outputs": [],
   "source": [
    "import os\n",
    "import tensorflow\n",
    "from tensorflow.keras.preprocessing import image\n",
    "import matplotlib.pyplot as plt \n",
    "import numpy as np\n",
    "from keras.utils.np_utils import to_categorical\n",
    "import random,shutil\n",
    "from tensorflow.keras.models import Sequential\n",
    "from tensorflow.keras.layers import Dropout,Conv2D,Flatten,Dense, MaxPooling2D, BatchNormalization\n",
    "from tensorflow.keras.models import load_model\n",
    "from tensorflow.keras import optimizers\n",
    "from tensorflow.keras import callbacks\n",
    "from tensorflow.keras.preprocessing.image import ImageDataGenerator"
   ]
  },
  {
   "cell_type": "code",
   "execution_count": 139,
   "id": "08f24a52",
   "metadata": {},
   "outputs": [],
   "source": [
    "def generator(dir, \n",
    "              gen=image.ImageDataGenerator(rescale=1./255), \n",
    "              shuffle=True,batch_size=1,\n",
    "              target_size=(24,24),\n",
    "              class_mode='categorical' ):\n",
    "\n",
    "    return gen.flow_from_directory(dir,\n",
    "                                   batch_size=batch_size,\n",
    "                                   shuffle=shuffle,\n",
    "                                   color_mode='grayscale',\n",
    "                                   class_mode=class_mode,\n",
    "                                   target_size=target_size)"
   ]
  },
  {
   "cell_type": "code",
   "execution_count": 159,
   "id": "cd435ae0",
   "metadata": {},
   "outputs": [
    {
     "name": "stdout",
     "output_type": "stream",
     "text": [
      "Found 1234 images belonging to 2 classes.\n",
      "Found 218 images belonging to 2 classes.\n",
      "Found 100 images belonging to 2 classes.\n",
      "38 6\n"
     ]
    }
   ],
   "source": [
    "BS= 32\n",
    "TS=(24,24)\n",
    "train_batch= generator('../raw_data/eyes/train_eyes',shuffle=True, batch_size=BS,target_size=TS)\n",
    "valid_batch= generator('../raw_data/eyes/valid_eyes',shuffle=True, batch_size=BS,target_size=TS)\n",
    "test_batch = generator('../raw_data/eyes/test_eyes',shuffle=True, batch_size=BS,target_size=TS)\n",
    "SPE= len(train_batch.classes)//BS\n",
    "VS = len(valid_batch.classes)//BS\n",
    "print(SPE,VS)"
   ]
  },
  {
   "cell_type": "code",
   "execution_count": 149,
   "id": "5605c894",
   "metadata": {},
   "outputs": [],
   "source": [
    "def model():\n",
    "    model = Sequential([\n",
    "        Conv2D(32, kernel_size=(3, 3), activation='relu', input_shape=(24,24,1)),\n",
    "        MaxPooling2D(pool_size=(2,2), strides = 2, padding=\"same\"),\n",
    "\n",
    "        Conv2D(32,(3,3),activation='relu'),\n",
    "        #MaxPooling2D(pool_size=(2,2), strides = 2, padding=\"same\"),\n",
    "\n",
    "    #32 convolution filters used each of size 3x3\n",
    "    #again\n",
    "        Conv2D(64, (3, 3), activation='relu'),\n",
    "        #MaxPooling2D(pool_size=(2,2), strides = 2, padding=\"same\"),\n",
    "\n",
    "    #64 convolution filters used each of size 3x3\n",
    "    #choose the best features via pooling\n",
    "\n",
    "    #randomly turn neurons on and off to improve convergence\n",
    "        #Dropout(0.25),\n",
    "    #flatten since too many dimensions, we only want a classification output\n",
    "        Flatten(),\n",
    "    #fully connected to get all relevant data\n",
    "        Dense(128, activation='relu'),\n",
    "    #one more dropout for convergence' sake :) \n",
    "        #Dropout(0.5),\n",
    "    #output a softmax to squash the matrix into output probabilities\n",
    "        Dense(2, activation='softmax')\n",
    "    ])\n",
    "    \n",
    "    model.compile(loss=\"categorical_crossentropy\", metrics=[recall], optimizer='adam')\n",
    "\n",
    "    return model"
   ]
  },
  {
   "cell_type": "code",
   "execution_count": 144,
   "id": "bca1b046",
   "metadata": {
    "scrolled": true
   },
   "outputs": [],
   "source": [
    "def kaggle_model():\n",
    "\n",
    "    model = Sequential()\n",
    "\n",
    "    model.add(Conv2D(256, (3, 3), activation=\"relu\", strides = (1,1), padding=\"same\", input_shape=(24,24,1)))\n",
    "    model.add(MaxPooling2D(2, 2))\n",
    "\n",
    "    model.add(Conv2D(128, (3, 3), activation=\"relu\"))\n",
    "    #model.add(MaxPooling2D(2, 2))\n",
    "\n",
    "    model.add(Conv2D(64, (3, 3), activation=\"relu\"))\n",
    "    #model.add(MaxPooling2D(2, 2))\n",
    "\n",
    "    model.add(Conv2D(32, (3, 3), activation=\"relu\"))\n",
    "    #model.add(MaxPooling2D(2, 2))\n",
    "\n",
    "    model.add(Flatten())\n",
    "    model.add(Dropout(0.5))\n",
    "\n",
    "    model.add(Dense(64, activation=\"relu\"))\n",
    "    model.add(Dense(2, activation=\"softmax\"))\n",
    "\n",
    "    model.compile(loss=\"categorical_crossentropy\", metrics=[recall], optimizer='adam')\n",
    "\n",
    "    #model.summary()\n",
    "    \n",
    "    return model"
   ]
  },
  {
   "cell_type": "code",
   "execution_count": 145,
   "id": "34cc4129",
   "metadata": {},
   "outputs": [],
   "source": [
    "model_k = kaggle_model()"
   ]
  },
  {
   "cell_type": "code",
   "execution_count": 146,
   "id": "2f0928f6",
   "metadata": {
    "scrolled": true
   },
   "outputs": [
    {
     "name": "stdout",
     "output_type": "stream",
     "text": [
      "Epoch 1/50\n",
      "37/37 [==============================] - 5s 101ms/step - loss: 0.4882 - recall_30: 0.7947 - val_loss: 0.2676 - val_recall_30: 0.9167\n",
      "Epoch 2/50\n",
      "37/37 [==============================] - 3s 88ms/step - loss: 0.2538 - recall_30: 0.9053 - val_loss: 0.1906 - val_recall_30: 0.9062\n",
      "Epoch 3/50\n",
      "37/37 [==============================] - 3s 89ms/step - loss: 0.1739 - recall_30: 0.9346 - val_loss: 0.0958 - val_recall_30: 0.9583\n",
      "Epoch 4/50\n",
      "37/37 [==============================] - 3s 92ms/step - loss: 0.1252 - recall_30: 0.9518 - val_loss: 0.0860 - val_recall_30: 0.9635\n",
      "Epoch 5/50\n",
      "37/37 [==============================] - 3s 92ms/step - loss: 0.1089 - recall_30: 0.9596 - val_loss: 0.0885 - val_recall_30: 0.9635\n",
      "Epoch 6/50\n",
      "37/37 [==============================] - 3s 88ms/step - loss: 0.0869 - recall_30: 0.9690 - val_loss: 0.1451 - val_recall_30: 0.9583\n",
      "Epoch 7/50\n",
      "37/37 [==============================] - 3s 87ms/step - loss: 0.1176 - recall_30: 0.9561 - val_loss: 0.0840 - val_recall_30: 0.9583\n",
      "Epoch 8/50\n",
      "37/37 [==============================] - 3s 87ms/step - loss: 0.0776 - recall_30: 0.9707 - val_loss: 0.0914 - val_recall_30: 0.9635\n",
      "Epoch 9/50\n",
      "37/37 [==============================] - 3s 87ms/step - loss: 0.0771 - recall_30: 0.9699 - val_loss: 0.0900 - val_recall_30: 0.9688\n",
      "Epoch 10/50\n",
      "37/37 [==============================] - 3s 90ms/step - loss: 0.0760 - recall_30: 0.9699 - val_loss: 0.1073 - val_recall_30: 0.9583\n",
      "Epoch 11/50\n",
      "37/37 [==============================] - 3s 93ms/step - loss: 0.0591 - recall_30: 0.9764 - val_loss: 0.0805 - val_recall_30: 0.9740\n",
      "Epoch 12/50\n",
      "37/37 [==============================] - 4s 100ms/step - loss: 0.0433 - recall_30: 0.9828 - val_loss: 0.1356 - val_recall_30: 0.9583\n",
      "Epoch 13/50\n",
      "37/37 [==============================] - 4s 101ms/step - loss: 0.0493 - recall_30: 0.9854 - val_loss: 0.0559 - val_recall_30: 0.9688\n",
      "Epoch 14/50\n",
      "37/37 [==============================] - 4s 101ms/step - loss: 0.0483 - recall_30: 0.9819 - val_loss: 0.0589 - val_recall_30: 0.9792\n",
      "Epoch 15/50\n",
      "37/37 [==============================] - 4s 102ms/step - loss: 0.0434 - recall_30: 0.9836 - val_loss: 0.0558 - val_recall_30: 0.9792\n",
      "Epoch 16/50\n",
      "37/37 [==============================] - 4s 116ms/step - loss: 0.0396 - recall_30: 0.9862 - val_loss: 0.0624 - val_recall_30: 0.9740\n",
      "Epoch 17/50\n",
      "37/37 [==============================] - 4s 105ms/step - loss: 0.0348 - recall_30: 0.9914 - val_loss: 0.0615 - val_recall_30: 0.9688\n",
      "Epoch 18/50\n",
      "37/37 [==============================] - 4s 101ms/step - loss: 0.0254 - recall_30: 0.9899 - val_loss: 0.1131 - val_recall_30: 0.9792\n",
      "Epoch 19/50\n",
      "37/37 [==============================] - 4s 99ms/step - loss: 0.0231 - recall_30: 0.9957 - val_loss: 0.0772 - val_recall_30: 0.9740\n",
      "Epoch 20/50\n",
      "37/37 [==============================] - 3s 89ms/step - loss: 0.0074 - recall_30: 0.9983 - val_loss: 0.1022 - val_recall_30: 0.9792\n",
      "Epoch 21/50\n",
      "37/37 [==============================] - 3s 91ms/step - loss: 0.0192 - recall_30: 0.9940 - val_loss: 0.0636 - val_recall_30: 0.9740\n",
      "Epoch 22/50\n",
      "37/37 [==============================] - 3s 88ms/step - loss: 0.0149 - recall_30: 0.9948 - val_loss: 0.1287 - val_recall_30: 0.9740\n",
      "Epoch 23/50\n",
      "37/37 [==============================] - 3s 88ms/step - loss: 0.0314 - recall_30: 0.9880 - val_loss: 0.0425 - val_recall_30: 0.9688\n",
      "Epoch 24/50\n",
      "37/37 [==============================] - 3s 91ms/step - loss: 0.0106 - recall_30: 0.9974 - val_loss: 0.1213 - val_recall_30: 0.9740\n",
      "Epoch 25/50\n",
      "37/37 [==============================] - 4s 94ms/step - loss: 0.0247 - recall_30: 0.9914 - val_loss: 0.0705 - val_recall_30: 0.9740\n",
      "Epoch 26/50\n",
      "37/37 [==============================] - 3s 90ms/step - loss: 0.0082 - recall_30: 0.9966 - val_loss: 0.1044 - val_recall_30: 0.9740\n",
      "Epoch 27/50\n",
      "37/37 [==============================] - 4s 99ms/step - loss: 0.0166 - recall_30: 0.9948 - val_loss: 0.1492 - val_recall_30: 0.9740\n",
      "Epoch 28/50\n",
      "37/37 [==============================] - 4s 96ms/step - loss: 0.0136 - recall_30: 0.9957 - val_loss: 0.0989 - val_recall_30: 0.9740\n",
      "Epoch 29/50\n",
      "37/37 [==============================] - 3s 89ms/step - loss: 0.0104 - recall_30: 0.9966 - val_loss: 0.0874 - val_recall_30: 0.9792\n",
      "Epoch 30/50\n",
      "37/37 [==============================] - 3s 92ms/step - loss: 0.0160 - recall_30: 0.9940 - val_loss: 0.0822 - val_recall_30: 0.9740\n",
      "Epoch 31/50\n",
      "37/37 [==============================] - 4s 97ms/step - loss: 0.0087 - recall_30: 0.9974 - val_loss: 0.0622 - val_recall_30: 0.9844\n",
      "Epoch 32/50\n",
      "37/37 [==============================] - 4s 95ms/step - loss: 0.0170 - recall_30: 0.9948 - val_loss: 0.0640 - val_recall_30: 0.9792\n",
      "Epoch 33/50\n",
      "37/37 [==============================] - 3s 88ms/step - loss: 0.0134 - recall_30: 0.9948 - val_loss: 0.0606 - val_recall_30: 0.9792\n",
      "Epoch 34/50\n",
      "37/37 [==============================] - 3s 92ms/step - loss: 0.0135 - recall_30: 0.9957 - val_loss: 0.0367 - val_recall_30: 0.9844\n",
      "Epoch 35/50\n",
      "37/37 [==============================] - 3s 90ms/step - loss: 0.0107 - recall_30: 0.9957 - val_loss: 0.0768 - val_recall_30: 0.9740\n",
      "Epoch 36/50\n",
      "37/37 [==============================] - 4s 98ms/step - loss: 0.0101 - recall_30: 0.9983 - val_loss: 0.1622 - val_recall_30: 0.9792\n",
      "Epoch 37/50\n",
      "37/37 [==============================] - 3s 93ms/step - loss: 0.0065 - recall_30: 0.9974 - val_loss: 0.1303 - val_recall_30: 0.9792\n",
      "Epoch 38/50\n",
      "37/37 [==============================] - 4s 95ms/step - loss: 0.0091 - recall_30: 0.9957 - val_loss: 0.0784 - val_recall_30: 0.9844\n",
      "Epoch 39/50\n",
      "37/37 [==============================] - 4s 94ms/step - loss: 0.0171 - recall_30: 0.9940 - val_loss: 0.0747 - val_recall_30: 0.9896\n",
      "Epoch 40/50\n",
      "37/37 [==============================] - 4s 93ms/step - loss: 0.0042 - recall_30: 0.9992 - val_loss: 0.1170 - val_recall_30: 0.9792\n",
      "Epoch 41/50\n",
      "37/37 [==============================] - 4s 99ms/step - loss: 0.0068 - recall_30: 0.9983 - val_loss: 0.1137 - val_recall_30: 0.9740\n",
      "Epoch 42/50\n",
      "37/37 [==============================] - 3s 89ms/step - loss: 0.0022 - recall_30: 1.0000 - val_loss: 0.1313 - val_recall_30: 0.9844\n",
      "Epoch 43/50\n",
      "37/37 [==============================] - 3s 92ms/step - loss: 0.0028 - recall_30: 0.9991 - val_loss: 0.1403 - val_recall_30: 0.9740\n",
      "Epoch 44/50\n",
      "37/37 [==============================] - 3s 92ms/step - loss: 0.0037 - recall_30: 0.9983 - val_loss: 0.2386 - val_recall_30: 0.9688\n",
      "Epoch 45/50\n",
      "37/37 [==============================] - 3s 92ms/step - loss: 0.0014 - recall_30: 1.0000 - val_loss: 0.1521 - val_recall_30: 0.9740\n",
      "Epoch 46/50\n",
      "37/37 [==============================] - 4s 96ms/step - loss: 4.2049e-04 - recall_30: 1.0000 - val_loss: 0.1721 - val_recall_30: 0.9688\n",
      "Epoch 47/50\n",
      "37/37 [==============================] - 3s 90ms/step - loss: 2.5511e-04 - recall_30: 1.0000 - val_loss: 0.2178 - val_recall_30: 0.9740\n",
      "Epoch 48/50\n",
      "37/37 [==============================] - 4s 95ms/step - loss: 2.0418e-04 - recall_30: 1.0000 - val_loss: 0.2064 - val_recall_30: 0.9740\n",
      "Epoch 49/50\n",
      "37/37 [==============================] - 4s 97ms/step - loss: 3.8229e-04 - recall_30: 1.0000 - val_loss: 0.1831 - val_recall_30: 0.9740\n",
      "Epoch 50/50\n",
      "37/37 [==============================] - 5s 130ms/step - loss: 2.1470e-04 - recall_30: 1.0000 - val_loss: 0.2095 - val_recall_30: 0.9688\n"
     ]
    }
   ],
   "source": [
    "history = model_k.fit(train_batch, \n",
    "                      validation_data=valid_batch, shuffle = True,\n",
    "                      epochs=50,steps_per_epoch=SPE, \n",
    "                      validation_steps=VS, \n",
    "                      callbacks=[es])"
   ]
  },
  {
   "cell_type": "code",
   "execution_count": 160,
   "id": "0a54bfa0",
   "metadata": {},
   "outputs": [
    {
     "name": "stdout",
     "output_type": "stream",
     "text": [
      "4/4 [==============================] - 0s 29ms/step - loss: 0.1958 - recall_30: 0.9800\n"
     ]
    }
   ],
   "source": [
    "res = model_k.evaluate(test_batch)"
   ]
  },
  {
   "cell_type": "code",
   "execution_count": 156,
   "id": "bbdf389c",
   "metadata": {},
   "outputs": [
    {
     "data": {
      "text/plain": [
       "{'loss': [0.48822876811027527,\n",
       "  0.25378838181495667,\n",
       "  0.17392458021640778,\n",
       "  0.1252424567937851,\n",
       "  0.10887192189693451,\n",
       "  0.08686547726392746,\n",
       "  0.11761474609375,\n",
       "  0.07762522995471954,\n",
       "  0.07711289077997208,\n",
       "  0.07596513628959656,\n",
       "  0.059144701808691025,\n",
       "  0.04325881972908974,\n",
       "  0.0493469201028347,\n",
       "  0.04828086867928505,\n",
       "  0.043381571769714355,\n",
       "  0.03959457203745842,\n",
       "  0.03482569381594658,\n",
       "  0.025425493717193604,\n",
       "  0.02314070798456669,\n",
       "  0.007440888788551092,\n",
       "  0.01920987479388714,\n",
       "  0.014886987395584583,\n",
       "  0.0313902348279953,\n",
       "  0.010608507320284843,\n",
       "  0.024728797376155853,\n",
       "  0.008241898380219936,\n",
       "  0.0166435856372118,\n",
       "  0.013558220118284225,\n",
       "  0.010399005375802517,\n",
       "  0.01597052998840809,\n",
       "  0.008664808236062527,\n",
       "  0.017008569091558456,\n",
       "  0.013368685729801655,\n",
       "  0.013453356921672821,\n",
       "  0.010658728890120983,\n",
       "  0.010114604607224464,\n",
       "  0.0065320986323058605,\n",
       "  0.009138289839029312,\n",
       "  0.017134957015514374,\n",
       "  0.004229420330375433,\n",
       "  0.006821453105658293,\n",
       "  0.0021652502473443747,\n",
       "  0.0028265321161597967,\n",
       "  0.003718047868460417,\n",
       "  0.0013835651334375143,\n",
       "  0.0004204860597383231,\n",
       "  0.0002551098878029734,\n",
       "  0.00020418345229700208,\n",
       "  0.0003822938888333738,\n",
       "  0.00021469657076522708],\n",
       " 'recall_30': [0.7946824431419373,\n",
       "  0.9053356051445007,\n",
       "  0.93459552526474,\n",
       "  0.9518072009086609,\n",
       "  0.9595524668693542,\n",
       "  0.9690189361572266,\n",
       "  0.9561101794242859,\n",
       "  0.9707400798797607,\n",
       "  0.9698795080184937,\n",
       "  0.9698795080184937,\n",
       "  0.9763513803482056,\n",
       "  0.9827883243560791,\n",
       "  0.9853700399398804,\n",
       "  0.9819276928901672,\n",
       "  0.9836488962173462,\n",
       "  0.9862306118011475,\n",
       "  0.9913941621780396,\n",
       "  0.9898648858070374,\n",
       "  0.9956970810890198,\n",
       "  0.9982788562774658,\n",
       "  0.9939758777618408,\n",
       "  0.9948365092277527,\n",
       "  0.9879518151283264,\n",
       "  0.997418224811554,\n",
       "  0.9913941621780396,\n",
       "  0.9965576529502869,\n",
       "  0.9948365092277527,\n",
       "  0.9956970810890198,\n",
       "  0.9965576529502869,\n",
       "  0.9939758777618408,\n",
       "  0.997418224811554,\n",
       "  0.9948365092277527,\n",
       "  0.9948365092277527,\n",
       "  0.9956970810890198,\n",
       "  0.9956970810890198,\n",
       "  0.9982788562774658,\n",
       "  0.997418224811554,\n",
       "  0.9956970810890198,\n",
       "  0.9939758777618408,\n",
       "  0.9991554021835327,\n",
       "  0.9982788562774658,\n",
       "  1.0,\n",
       "  0.9991394281387329,\n",
       "  0.9983108043670654,\n",
       "  1.0,\n",
       "  1.0,\n",
       "  1.0,\n",
       "  1.0,\n",
       "  1.0,\n",
       "  1.0],\n",
       " 'val_loss': [0.2675758898258209,\n",
       "  0.19056415557861328,\n",
       "  0.09578946977853775,\n",
       "  0.08600783348083496,\n",
       "  0.08851733058691025,\n",
       "  0.14514873921871185,\n",
       "  0.08400178700685501,\n",
       "  0.09139090776443481,\n",
       "  0.0900140330195427,\n",
       "  0.10732400417327881,\n",
       "  0.08051367104053497,\n",
       "  0.1355607509613037,\n",
       "  0.05586140975356102,\n",
       "  0.05890927091240883,\n",
       "  0.05583026632666588,\n",
       "  0.06242143735289574,\n",
       "  0.061477240175008774,\n",
       "  0.11313050985336304,\n",
       "  0.07715938985347748,\n",
       "  0.10222386568784714,\n",
       "  0.06359884887933731,\n",
       "  0.12866096198558807,\n",
       "  0.04253135621547699,\n",
       "  0.12134300917387009,\n",
       "  0.07052022963762283,\n",
       "  0.10437843948602676,\n",
       "  0.1492137461900711,\n",
       "  0.09887924045324326,\n",
       "  0.08738195151090622,\n",
       "  0.08215969800949097,\n",
       "  0.06217549368739128,\n",
       "  0.06404770165681839,\n",
       "  0.06064978614449501,\n",
       "  0.03667368367314339,\n",
       "  0.07680359482765198,\n",
       "  0.1621779203414917,\n",
       "  0.1303481012582779,\n",
       "  0.07836432009935379,\n",
       "  0.07465890794992447,\n",
       "  0.11696338653564453,\n",
       "  0.11368542909622192,\n",
       "  0.13130183517932892,\n",
       "  0.1402568370103836,\n",
       "  0.23862089216709137,\n",
       "  0.15206044912338257,\n",
       "  0.17214547097682953,\n",
       "  0.21775217354297638,\n",
       "  0.20641587674617767,\n",
       "  0.1830546110868454,\n",
       "  0.20951741933822632],\n",
       " 'val_recall_30': [0.9166666865348816,\n",
       "  0.90625,\n",
       "  0.9583333134651184,\n",
       "  0.9635416865348816,\n",
       "  0.9635416865348816,\n",
       "  0.9583333134651184,\n",
       "  0.9583333134651184,\n",
       "  0.9635416865348816,\n",
       "  0.96875,\n",
       "  0.9583333134651184,\n",
       "  0.9739583134651184,\n",
       "  0.9583333134651184,\n",
       "  0.96875,\n",
       "  0.9791666865348816,\n",
       "  0.9791666865348816,\n",
       "  0.9739583134651184,\n",
       "  0.96875,\n",
       "  0.9791666865348816,\n",
       "  0.9739583134651184,\n",
       "  0.9791666865348816,\n",
       "  0.9739583134651184,\n",
       "  0.9739583134651184,\n",
       "  0.96875,\n",
       "  0.9739583134651184,\n",
       "  0.9739583134651184,\n",
       "  0.9739583134651184,\n",
       "  0.9739583134651184,\n",
       "  0.9739583134651184,\n",
       "  0.9791666865348816,\n",
       "  0.9739583134651184,\n",
       "  0.984375,\n",
       "  0.9791666865348816,\n",
       "  0.9791666865348816,\n",
       "  0.984375,\n",
       "  0.9739583134651184,\n",
       "  0.9791666865348816,\n",
       "  0.9791666865348816,\n",
       "  0.984375,\n",
       "  0.9895833134651184,\n",
       "  0.9791666865348816,\n",
       "  0.9739583134651184,\n",
       "  0.984375,\n",
       "  0.9739583134651184,\n",
       "  0.96875,\n",
       "  0.9739583134651184,\n",
       "  0.96875,\n",
       "  0.9739583134651184,\n",
       "  0.9739583134651184,\n",
       "  0.9739583134651184,\n",
       "  0.96875]}"
      ]
     },
     "execution_count": 156,
     "metadata": {},
     "output_type": "execute_result"
    }
   ],
   "source": [
    "history.history"
   ]
  },
  {
   "cell_type": "code",
   "execution_count": 157,
   "id": "7def37eb",
   "metadata": {
    "scrolled": true
   },
   "outputs": [
    {
     "data": {
      "text/plain": [
       "[<matplotlib.lines.Line2D at 0x1d074cc40>]"
      ]
     },
     "execution_count": 157,
     "metadata": {},
     "output_type": "execute_result"
    },
    {
     "data": {
      "image/png": "[encoded data removed]",
      "text/plain": [
       "<Figure size 432x288 with 1 Axes>"
      ]
     },
     "metadata": {
      "needs_background": "light"
     },
     "output_type": "display_data"
    }
   ],
   "source": [
    "plt.plot(history.history['val_loss'])\n",
    "plt.plot(history.history['val_recall_30'])"
   ]
  },
  {
   "cell_type": "code",
   "execution_count": 150,
   "id": "c74a706b",
   "metadata": {},
   "outputs": [],
   "source": [
    "model = model()"
   ]
  },
  {
   "cell_type": "code",
   "execution_count": 151,
   "id": "e3fa87cd",
   "metadata": {},
   "outputs": [
    {
     "name": "stdout",
     "output_type": "stream",
     "text": [
      "Epoch 1/50\n",
      "37/37 [==============================] - 5s 126ms/step - loss: 0.4087 - recall_30: 0.8228 - val_loss: 0.3931 - val_recall_30: 0.8229\n",
      "Epoch 2/50\n",
      "37/37 [==============================] - 3s 68ms/step - loss: 0.2112 - recall_30: 0.9217 - val_loss: 0.1686 - val_recall_30: 0.9427\n",
      "Epoch 3/50\n",
      "37/37 [==============================] - 2s 61ms/step - loss: 0.1664 - recall_30: 0.9406 - val_loss: 0.1837 - val_recall_30: 0.9271\n",
      "Epoch 4/50\n",
      "37/37 [==============================] - 2s 60ms/step - loss: 0.1196 - recall_30: 0.9544 - val_loss: 0.1376 - val_recall_30: 0.9531\n",
      "Epoch 5/50\n",
      "37/37 [==============================] - 2s 60ms/step - loss: 0.0840 - recall_30: 0.9656 - val_loss: 0.1279 - val_recall_30: 0.9375\n",
      "Epoch 6/50\n",
      "37/37 [==============================] - 2s 62ms/step - loss: 0.0673 - recall_30: 0.9733 - val_loss: 0.1293 - val_recall_30: 0.9479\n",
      "Epoch 7/50\n",
      "37/37 [==============================] - 2s 60ms/step - loss: 0.0705 - recall_30: 0.9733 - val_loss: 0.1127 - val_recall_30: 0.9479\n",
      "Epoch 8/50\n",
      "37/37 [==============================] - 2s 61ms/step - loss: 0.0409 - recall_30: 0.9871 - val_loss: 0.1263 - val_recall_30: 0.9479\n",
      "Epoch 9/50\n",
      "37/37 [==============================] - 2s 64ms/step - loss: 0.0426 - recall_30: 0.9854 - val_loss: 0.1181 - val_recall_30: 0.9635\n",
      "Epoch 10/50\n",
      "37/37 [==============================] - 2s 62ms/step - loss: 0.0440 - recall_30: 0.9802 - val_loss: 0.1024 - val_recall_30: 0.9635\n",
      "Epoch 11/50\n",
      "37/37 [==============================] - 2s 60ms/step - loss: 0.0265 - recall_30: 0.9888 - val_loss: 0.1186 - val_recall_30: 0.9479\n",
      "Epoch 12/50\n",
      "37/37 [==============================] - 2s 60ms/step - loss: 0.0177 - recall_30: 0.9966 - val_loss: 0.1193 - val_recall_30: 0.9635\n",
      "Epoch 13/50\n",
      "37/37 [==============================] - 2s 62ms/step - loss: 0.0176 - recall_30: 0.9957 - val_loss: 0.1019 - val_recall_30: 0.9688\n",
      "Epoch 14/50\n",
      "37/37 [==============================] - 2s 61ms/step - loss: 0.0172 - recall_30: 0.9940 - val_loss: 0.1915 - val_recall_30: 0.9479\n",
      "Epoch 15/50\n",
      "37/37 [==============================] - 2s 62ms/step - loss: 0.0152 - recall_30: 0.9923 - val_loss: 0.1359 - val_recall_30: 0.9740\n",
      "Epoch 16/50\n",
      "37/37 [==============================] - 2s 64ms/step - loss: 0.0141 - recall_30: 0.9948 - val_loss: 0.1063 - val_recall_30: 0.9583\n",
      "Epoch 17/50\n",
      "37/37 [==============================] - 2s 62ms/step - loss: 0.0050 - recall_30: 1.0000 - val_loss: 0.1328 - val_recall_30: 0.9583\n",
      "Epoch 18/50\n",
      "37/37 [==============================] - 2s 61ms/step - loss: 0.0040 - recall_30: 0.9991 - val_loss: 0.1611 - val_recall_30: 0.9583\n",
      "Epoch 19/50\n",
      "37/37 [==============================] - 2s 60ms/step - loss: 0.0051 - recall_30: 0.9991 - val_loss: 0.1398 - val_recall_30: 0.9583\n",
      "Epoch 20/50\n",
      "37/37 [==============================] - 2s 62ms/step - loss: 0.0025 - recall_30: 1.0000 - val_loss: 0.1376 - val_recall_30: 0.9583\n",
      "Epoch 21/50\n",
      "37/37 [==============================] - 2s 60ms/step - loss: 0.0032 - recall_30: 0.9991 - val_loss: 0.1229 - val_recall_30: 0.9688\n",
      "Epoch 22/50\n",
      "37/37 [==============================] - 2s 62ms/step - loss: 0.0075 - recall_30: 0.9966 - val_loss: 0.2082 - val_recall_30: 0.9635\n",
      "Epoch 23/50\n",
      "37/37 [==============================] - 2s 63ms/step - loss: 0.0114 - recall_30: 0.9957 - val_loss: 0.1529 - val_recall_30: 0.9688\n",
      "Epoch 24/50\n",
      "37/37 [==============================] - 2s 63ms/step - loss: 0.0077 - recall_30: 0.9974 - val_loss: 0.2404 - val_recall_30: 0.9427\n",
      "Epoch 25/50\n",
      "37/37 [==============================] - 2s 62ms/step - loss: 0.0286 - recall_30: 0.9862 - val_loss: 0.1420 - val_recall_30: 0.9479\n",
      "Epoch 26/50\n",
      "37/37 [==============================] - 2s 62ms/step - loss: 0.0288 - recall_30: 0.9914 - val_loss: 0.0917 - val_recall_30: 0.9688\n",
      "Epoch 27/50\n",
      "37/37 [==============================] - 2s 59ms/step - loss: 0.0093 - recall_30: 0.9966 - val_loss: 0.1064 - val_recall_30: 0.9688\n",
      "Epoch 28/50\n",
      "37/37 [==============================] - 2s 61ms/step - loss: 0.0023 - recall_30: 1.0000 - val_loss: 0.1282 - val_recall_30: 0.9688\n",
      "Epoch 29/50\n",
      "37/37 [==============================] - 2s 59ms/step - loss: 8.2154e-04 - recall_30: 1.0000 - val_loss: 0.1387 - val_recall_30: 0.9688\n",
      "Epoch 30/50\n",
      "37/37 [==============================] - 2s 59ms/step - loss: 5.3287e-04 - recall_30: 1.0000 - val_loss: 0.1335 - val_recall_30: 0.9740\n",
      "Epoch 31/50\n",
      "37/37 [==============================] - 2s 64ms/step - loss: 3.9682e-04 - recall_30: 1.0000 - val_loss: 0.1468 - val_recall_30: 0.9688\n",
      "Epoch 32/50\n",
      "37/37 [==============================] - 2s 60ms/step - loss: 3.2320e-04 - recall_30: 1.0000 - val_loss: 0.1458 - val_recall_30: 0.9688\n",
      "Epoch 33/50\n",
      "37/37 [==============================] - 2s 60ms/step - loss: 2.5439e-04 - recall_30: 1.0000 - val_loss: 0.0865 - val_recall_30: 0.9792\n",
      "Epoch 34/50\n",
      "37/37 [==============================] - 2s 60ms/step - loss: 2.4821e-04 - recall_30: 1.0000 - val_loss: 0.1568 - val_recall_30: 0.9635\n",
      "Epoch 35/50\n",
      "37/37 [==============================] - 2s 61ms/step - loss: 2.2603e-04 - recall_30: 1.0000 - val_loss: 0.1562 - val_recall_30: 0.9688\n",
      "Epoch 36/50\n",
      "37/37 [==============================] - 2s 65ms/step - loss: 2.0105e-04 - recall_30: 1.0000 - val_loss: 0.1633 - val_recall_30: 0.9635\n",
      "Epoch 37/50\n",
      "37/37 [==============================] - 2s 62ms/step - loss: 1.7966e-04 - recall_30: 1.0000 - val_loss: 0.1279 - val_recall_30: 0.9740\n",
      "Epoch 38/50\n",
      "37/37 [==============================] - 2s 67ms/step - loss: 1.6698e-04 - recall_30: 1.0000 - val_loss: 0.1669 - val_recall_30: 0.9635\n",
      "Epoch 39/50\n",
      "37/37 [==============================] - 2s 61ms/step - loss: 1.4857e-04 - recall_30: 1.0000 - val_loss: 0.1655 - val_recall_30: 0.9688\n",
      "Epoch 40/50\n",
      "37/37 [==============================] - 2s 61ms/step - loss: 1.3876e-04 - recall_30: 1.0000 - val_loss: 0.1248 - val_recall_30: 0.9740\n",
      "Epoch 41/50\n",
      "37/37 [==============================] - 2s 64ms/step - loss: 1.2999e-04 - recall_30: 1.0000 - val_loss: 0.1370 - val_recall_30: 0.9688\n",
      "Epoch 42/50\n",
      "37/37 [==============================] - 2s 61ms/step - loss: 1.2284e-04 - recall_30: 1.0000 - val_loss: 0.0996 - val_recall_30: 0.9792\n",
      "Epoch 43/50\n",
      "37/37 [==============================] - 2s 61ms/step - loss: 1.2090e-04 - recall_30: 1.0000 - val_loss: 0.1442 - val_recall_30: 0.9688\n",
      "Epoch 44/50\n",
      "37/37 [==============================] - 3s 69ms/step - loss: 1.0687e-04 - recall_30: 1.0000 - val_loss: 0.1806 - val_recall_30: 0.9635\n",
      "Epoch 45/50\n",
      "37/37 [==============================] - 3s 80ms/step - loss: 9.9069e-05 - recall_30: 1.0000 - val_loss: 0.1518 - val_recall_30: 0.9635\n",
      "Epoch 46/50\n",
      "37/37 [==============================] - 3s 71ms/step - loss: 9.3861e-05 - recall_30: 1.0000 - val_loss: 0.1406 - val_recall_30: 0.9635\n",
      "Epoch 47/50\n",
      "37/37 [==============================] - 2s 60ms/step - loss: 9.4299e-05 - recall_30: 1.0000 - val_loss: 0.1552 - val_recall_30: 0.9635\n",
      "Epoch 48/50\n",
      "37/37 [==============================] - 3s 68ms/step - loss: 8.5798e-05 - recall_30: 1.0000 - val_loss: 0.1823 - val_recall_30: 0.9635\n",
      "Epoch 49/50\n",
      "37/37 [==============================] - 2s 60ms/step - loss: 8.1593e-05 - recall_30: 1.0000 - val_loss: 0.1882 - val_recall_30: 0.9583\n",
      "Epoch 50/50\n",
      "37/37 [==============================] - 2s 61ms/step - loss: 7.5498e-05 - recall_30: 1.0000 - val_loss: 0.1496 - val_recall_30: 0.9688\n"
     ]
    }
   ],
   "source": [
    "history_2 = model.fit(train_batch, \n",
    "                      validation_data=valid_batch, shuffle = True,\n",
    "                      epochs=50,steps_per_epoch=SPE, \n",
    "                      validation_steps=VS, \n",
    "                      callbacks=[es])"
   ]
  },
  {
   "cell_type": "code",
   "execution_count": 161,
   "id": "13f37435",
   "metadata": {},
   "outputs": [
    {
     "name": "stdout",
     "output_type": "stream",
     "text": [
      "4/4 [==============================] - 0s 7ms/step - loss: 0.2104 - recall_30: 0.9800\n"
     ]
    }
   ],
   "source": [
    "res = model.evaluate(test_batch)"
   ]
  },
  {
   "cell_type": "code",
   "execution_count": 158,
   "id": "466ca769",
   "metadata": {
    "scrolled": true
   },
   "outputs": [
    {
     "data": {
      "text/plain": [
       "[<matplotlib.lines.Line2D at 0x1d0614790>]"
      ]
     },
     "execution_count": 158,
     "metadata": {},
     "output_type": "execute_result"
    },
    {
     "data": {
      "image/png": "[encoded data removed]",
      "text/plain": [
       "<Figure size 432x288 with 1 Axes>"
      ]
     },
     "metadata": {
      "needs_background": "light"
     },
     "output_type": "display_data"
    }
   ],
   "source": [
    "plt.plot(history_2.history['val_loss'])\n",
    "plt.plot(history_2.history['val_recall_30'])"
   ]
  },
  {
   "cell_type": "code",
   "execution_count": 162,
   "id": "7330b760",
   "metadata": {},
   "outputs": [],
   "source": [
    "model.save('../models/model_eyes.h5', overwrite=True)"
   ]
  },
  {
   "cell_type": "code",
   "execution_count": 96,
   "id": "90c053ea",
   "metadata": {},
   "outputs": [],
   "source": [
    "adam_opt = optimizers.Adam(learning_rate=0.10, beta_1=0.9, beta_2=0.999)"
   ]
  },
  {
   "cell_type": "code",
   "execution_count": 60,
   "id": "65a7f791",
   "metadata": {
    "collapsed": true
   },
   "outputs": [
    {
     "name": "stdout",
     "output_type": "stream",
     "text": [
      "Epoch 1/50\n",
      "38/38 [==============================] - 4s 96ms/step - loss: 7.6115 - recall_29: 0.4842 - val_loss: 0.6932 - val_recall_29: 0.4844\n",
      "Epoch 2/50\n",
      "38/38 [==============================] - 3s 68ms/step - loss: 0.6941 - recall_29: 0.4884 - val_loss: 0.6930 - val_recall_29: 0.5104\n",
      "Epoch 3/50\n",
      "38/38 [==============================] - 3s 67ms/step - loss: 0.6940 - recall_29: 0.4950 - val_loss: 0.6927 - val_recall_29: 0.5156\n",
      "Epoch 4/50\n",
      "38/38 [==============================] - 2s 66ms/step - loss: 0.6944 - recall_29: 0.4842 - val_loss: 0.6931 - val_recall_29: 0.5052\n",
      "Epoch 5/50\n",
      "38/38 [==============================] - 3s 66ms/step - loss: 0.6937 - recall_29: 0.4942 - val_loss: 0.6929 - val_recall_29: 0.5104\n",
      "Epoch 6/50\n",
      "38/38 [==============================] - 3s 73ms/step - loss: 0.6937 - recall_29: 0.4884 - val_loss: 0.6937 - val_recall_29: 0.5000\n",
      "Epoch 7/50\n",
      "38/38 [==============================] - 3s 68ms/step - loss: 0.6938 - recall_29: 0.5025 - val_loss: 0.6939 - val_recall_29: 0.4844\n",
      "Epoch 8/50\n",
      "38/38 [==============================] - 3s 68ms/step - loss: 0.6946 - recall_29: 0.4992 - val_loss: 0.6931 - val_recall_29: 0.5052\n",
      "Epoch 9/50\n",
      "38/38 [==============================] - 3s 69ms/step - loss: 0.6947 - recall_29: 0.4884 - val_loss: 0.6934 - val_recall_29: 0.4896\n",
      "Epoch 10/50\n",
      "38/38 [==============================] - 3s 67ms/step - loss: 0.6941 - recall_29: 0.4850 - val_loss: 0.6932 - val_recall_29: 0.4896\n",
      "Epoch 11/50\n",
      "38/38 [==============================] - 3s 69ms/step - loss: 0.6934 - recall_29: 0.4817 - val_loss: 0.6931 - val_recall_29: 0.5052\n",
      "Epoch 12/50\n",
      "38/38 [==============================] - 3s 69ms/step - loss: 0.6942 - recall_29: 0.4676 - val_loss: 0.6931 - val_recall_29: 0.5104\n",
      "Epoch 13/50\n",
      "38/38 [==============================] - 3s 71ms/step - loss: 0.6949 - recall_29: 0.4933 - val_loss: 0.6936 - val_recall_29: 0.4948\n",
      "Epoch 14/50\n",
      "38/38 [==============================] - 3s 69ms/step - loss: 0.6940 - recall_29: 0.4700 - val_loss: 0.6932 - val_recall_29: 0.5000\n",
      "Epoch 15/50\n",
      "38/38 [==============================] - 3s 67ms/step - loss: 0.6945 - recall_29: 0.4692 - val_loss: 0.6931 - val_recall_29: 0.5052\n",
      "Epoch 16/50\n",
      "38/38 [==============================] - 3s 66ms/step - loss: 0.6942 - recall_29: 0.5008 - val_loss: 0.6931 - val_recall_29: 0.5052\n",
      "Epoch 17/50\n",
      "38/38 [==============================] - 3s 71ms/step - loss: 0.6948 - recall_29: 0.4983 - val_loss: 0.6935 - val_recall_29: 0.5052\n",
      "Epoch 18/50\n",
      "38/38 [==============================] - 3s 65ms/step - loss: 0.6941 - recall_29: 0.4884 - val_loss: 0.6930 - val_recall_29: 0.5104\n",
      "Epoch 19/50\n",
      "38/38 [==============================] - 3s 70ms/step - loss: 0.6952 - recall_29: 0.4900 - val_loss: 0.6933 - val_recall_29: 0.4948\n",
      "Epoch 20/50\n",
      "38/38 [==============================] - 3s 69ms/step - loss: 0.6941 - recall_29: 0.4908 - val_loss: 0.6932 - val_recall_29: 0.5000\n",
      "Epoch 21/50\n",
      "38/38 [==============================] - 3s 71ms/step - loss: 0.6936 - recall_29: 0.4750 - val_loss: 0.6942 - val_recall_29: 0.4948\n",
      "Epoch 22/50\n",
      "38/38 [==============================] - 3s 81ms/step - loss: 0.6948 - recall_29: 0.4967 - val_loss: 0.6949 - val_recall_29: 0.4896\n",
      "Epoch 23/50\n",
      "38/38 [==============================] - 3s 90ms/step - loss: 0.6957 - recall_29: 0.4767 - val_loss: 0.6928 - val_recall_29: 0.5156\n"
     ]
    }
   ],
   "source": [
    "recall = tensorflow.keras.metrics.Recall(thresholds=None, top_k=None, class_id=None, name=None, dtype=None)\n",
    "es = callbacks.EarlyStopping(patience=20, restore_best_weights=True)\n",
    "\n",
    "model.compile(loss='categorical_crossentropy', optimizer=adam_opt, metrics=[recall])\n",
    "\n",
    "history = model.fit(train_batch, validation_data=valid_batch,epochs=50,steps_per_epoch=SPE, validation_steps=VS, callbacks=[es])"
   ]
  },
  {
   "cell_type": "code",
   "execution_count": 62,
   "id": "6c7da175",
   "metadata": {
    "collapsed": true
   },
   "outputs": [
    {
     "name": "stdout",
     "output_type": "stream",
     "text": [
      "Epoch 1/50\n",
      "38/38 [==============================] - 3s 76ms/step - loss: 1.1126 - recall_30: 0.4967 - val_loss: 0.6943 - val_recall_30: 0.5000\n",
      "Epoch 2/50\n",
      "38/38 [==============================] - 2s 63ms/step - loss: 0.6943 - recall_30: 0.5058 - val_loss: 0.6943 - val_recall_30: 0.5052\n",
      "Epoch 3/50\n",
      "38/38 [==============================] - 2s 59ms/step - loss: 0.6944 - recall_30: 0.4917 - val_loss: 0.6932 - val_recall_30: 0.4948\n",
      "Epoch 4/50\n",
      "38/38 [==============================] - 2s 61ms/step - loss: 0.6936 - recall_30: 0.5033 - val_loss: 0.6936 - val_recall_30: 0.4948\n",
      "Epoch 5/50\n",
      "38/38 [==============================] - 2s 63ms/step - loss: 0.6942 - recall_30: 0.4634 - val_loss: 0.6936 - val_recall_30: 0.4844\n",
      "Epoch 6/50\n",
      "38/38 [==============================] - 2s 58ms/step - loss: 0.6935 - recall_30: 0.4792 - val_loss: 0.6936 - val_recall_30: 0.4844\n",
      "Epoch 7/50\n",
      "38/38 [==============================] - 2s 59ms/step - loss: 0.6944 - recall_30: 0.4825 - val_loss: 0.6932 - val_recall_30: 0.4948\n",
      "Epoch 8/50\n",
      "38/38 [==============================] - 2s 59ms/step - loss: 0.6961 - recall_30: 0.5141 - val_loss: 0.6988 - val_recall_30: 0.5052\n",
      "Epoch 9/50\n",
      "38/38 [==============================] - 2s 58ms/step - loss: 0.6973 - recall_30: 0.4850 - val_loss: 0.6936 - val_recall_30: 0.4844\n",
      "Epoch 10/50\n",
      "38/38 [==============================] - 2s 61ms/step - loss: 0.6936 - recall_30: 0.4859 - val_loss: 0.6939 - val_recall_30: 0.4896\n",
      "Epoch 11/50\n",
      "38/38 [==============================] - 2s 63ms/step - loss: 0.6944 - recall_30: 0.4651 - val_loss: 0.6933 - val_recall_30: 0.4948\n",
      "Epoch 12/50\n",
      "38/38 [==============================] - 2s 61ms/step - loss: 0.6954 - recall_30: 0.5050 - val_loss: 0.6939 - val_recall_30: 0.5000\n",
      "Epoch 13/50\n",
      "38/38 [==============================] - 2s 59ms/step - loss: 0.6953 - recall_30: 0.4792 - val_loss: 0.6934 - val_recall_30: 0.4896\n",
      "Epoch 14/50\n",
      "38/38 [==============================] - 2s 60ms/step - loss: 0.6940 - recall_30: 0.5042 - val_loss: 0.6940 - val_recall_30: 0.4896\n",
      "Epoch 15/50\n",
      "38/38 [==============================] - 2s 60ms/step - loss: 0.6943 - recall_30: 0.4900 - val_loss: 0.6929 - val_recall_30: 0.5156\n",
      "Epoch 16/50\n",
      "38/38 [==============================] - 2s 61ms/step - loss: 0.6962 - recall_30: 0.4908 - val_loss: 0.6944 - val_recall_30: 0.5000\n",
      "Epoch 17/50\n",
      "38/38 [==============================] - 2s 61ms/step - loss: 0.6950 - recall_30: 0.4933 - val_loss: 0.6934 - val_recall_30: 0.4948\n",
      "Epoch 18/50\n",
      "38/38 [==============================] - 2s 59ms/step - loss: 0.6934 - recall_30: 0.5008 - val_loss: 0.6932 - val_recall_30: 0.5000\n",
      "Epoch 19/50\n",
      "38/38 [==============================] - 2s 64ms/step - loss: 0.6944 - recall_30: 0.4875 - val_loss: 0.6930 - val_recall_30: 0.5104\n",
      "Epoch 20/50\n",
      "38/38 [==============================] - 2s 60ms/step - loss: 0.6940 - recall_30: 0.4884 - val_loss: 0.6931 - val_recall_30: 0.5052\n",
      "Epoch 21/50\n",
      "38/38 [==============================] - 2s 61ms/step - loss: 0.6937 - recall_30: 0.4742 - val_loss: 0.6931 - val_recall_30: 0.5052\n",
      "Epoch 22/50\n",
      "38/38 [==============================] - 2s 63ms/step - loss: 0.6938 - recall_30: 0.4759 - val_loss: 0.6935 - val_recall_30: 0.4896\n",
      "Epoch 23/50\n",
      "38/38 [==============================] - 2s 59ms/step - loss: 0.6951 - recall_30: 0.4983 - val_loss: 0.6965 - val_recall_30: 0.4792\n",
      "Epoch 24/50\n",
      "38/38 [==============================] - 2s 62ms/step - loss: 0.6946 - recall_30: 0.4700 - val_loss: 0.6934 - val_recall_30: 0.4948\n",
      "Epoch 25/50\n",
      "38/38 [==============================] - 3s 68ms/step - loss: 0.6937 - recall_30: 0.5058 - val_loss: 0.6930 - val_recall_30: 0.5104\n",
      "Epoch 26/50\n",
      "38/38 [==============================] - 2s 65ms/step - loss: 0.6937 - recall_30: 0.5008 - val_loss: 0.6934 - val_recall_30: 0.5052\n",
      "Epoch 27/50\n",
      "38/38 [==============================] - 2s 59ms/step - loss: 0.6940 - recall_30: 0.5042 - val_loss: 0.6938 - val_recall_30: 0.4896\n",
      "Epoch 28/50\n",
      "38/38 [==============================] - 2s 59ms/step - loss: 0.6944 - recall_30: 0.4917 - val_loss: 0.6932 - val_recall_30: 0.5000\n",
      "Epoch 29/50\n",
      "38/38 [==============================] - 2s 61ms/step - loss: 0.6938 - recall_30: 0.4692 - val_loss: 0.6932 - val_recall_30: 0.4792\n",
      "Epoch 30/50\n",
      "38/38 [==============================] - 2s 63ms/step - loss: 0.6939 - recall_30: 0.4717 - val_loss: 0.6933 - val_recall_30: 0.4948\n",
      "Epoch 31/50\n",
      "38/38 [==============================] - 2s 60ms/step - loss: 0.6941 - recall_30: 0.5025 - val_loss: 0.6934 - val_recall_30: 0.4896\n",
      "Epoch 32/50\n",
      "38/38 [==============================] - 2s 58ms/step - loss: 0.6957 - recall_30: 0.4942 - val_loss: 0.6953 - val_recall_30: 0.4844\n",
      "Epoch 33/50\n",
      "38/38 [==============================] - 2s 58ms/step - loss: 0.6943 - recall_30: 0.4850 - val_loss: 0.6947 - val_recall_30: 0.4844\n",
      "Epoch 34/50\n",
      "38/38 [==============================] - 2s 58ms/step - loss: 0.6939 - recall_30: 0.5208 - val_loss: 0.6939 - val_recall_30: 0.5104\n",
      "Epoch 35/50\n",
      "38/38 [==============================] - 2s 61ms/step - loss: 0.6960 - recall_30: 0.4834 - val_loss: 0.6939 - val_recall_30: 0.4948\n"
     ]
    }
   ],
   "source": [
    "# To test: \n",
    "# 3 values learning rate \n",
    "# beta_1, beta_2\n",
    "# stride - keep it at 1\n",
    "\n",
    "# Implement: \n",
    "# Validation split\n",
    "\n",
    "adam_opt = optimizers.Adam(learning_rate=0.05, beta_1=0.9, beta_2=0.999)\n",
    "recall = tensorflow.keras.metrics.Recall(thresholds=None, top_k=None, class_id=None, name=None, dtype=None)\n",
    "es = callbacks.EarlyStopping(patience=20, restore_best_weights=True)\n",
    "\n",
    "model_2.compile(loss='categorical_crossentropy', optimizer=adam_opt, metrics=[recall])\n",
    "\n",
    "history_2 = model_2.fit(train_batch, validation_data=valid_batch,epochs=50,steps_per_epoch=SPE, validation_steps=VS, callbacks=[es])"
   ]
  },
  {
   "cell_type": "code",
   "execution_count": 29,
   "id": "f987554e",
   "metadata": {
    "collapsed": true
   },
   "outputs": [
    {
     "data": {
      "text/plain": [
       "{'loss': [0.6932916641235352,\n",
       "  0.6934102177619934,\n",
       "  0.6933446526527405,\n",
       "  0.6943046450614929,\n",
       "  0.6933184266090393,\n",
       "  0.6936953663825989,\n",
       "  0.6933460235595703,\n",
       "  0.6935112476348877,\n",
       "  0.6931918263435364,\n",
       "  0.6932404637336731,\n",
       "  0.6936151385307312,\n",
       "  0.6935116648674011,\n",
       "  0.693412721157074,\n",
       "  0.6933141946792603,\n",
       "  0.6934435367584229,\n",
       "  0.693547785282135,\n",
       "  0.6932939291000366,\n",
       "  0.6933596134185791,\n",
       "  0.6935021877288818,\n",
       "  0.6936171054840088,\n",
       "  0.6938539743423462],\n",
       " 'recall_13': [0.49417635798454285,\n",
       "  0.5049917101860046,\n",
       "  0.5,\n",
       "  0.4775374233722687,\n",
       "  0.48585689067840576,\n",
       "  0.5008319616317749,\n",
       "  0.4991680383682251,\n",
       "  0.4875207841396332,\n",
       "  0.4900166392326355,\n",
       "  0.5008319616317749,\n",
       "  0.5008319616317749,\n",
       "  0.49251246452331543,\n",
       "  0.4991680383682251,\n",
       "  0.5008319616317749,\n",
       "  0.480033278465271,\n",
       "  0.4775374233722687,\n",
       "  0.4825291037559509,\n",
       "  0.5008319616317749,\n",
       "  0.49667221307754517,\n",
       "  0.4900166392326355,\n",
       "  0.49251246452331543],\n",
       " 'val_loss': [0.6928815841674805,\n",
       "  0.6930947303771973,\n",
       "  0.693183422088623,\n",
       "  0.6932918429374695,\n",
       "  0.6931154727935791,\n",
       "  0.6933204531669617,\n",
       "  0.693152129650116,\n",
       "  0.693127453327179,\n",
       "  0.6932846903800964,\n",
       "  0.6931770443916321,\n",
       "  0.6931476593017578,\n",
       "  0.69297194480896,\n",
       "  0.6933309435844421,\n",
       "  0.6930957436561584,\n",
       "  0.693293035030365,\n",
       "  0.6931135058403015,\n",
       "  0.6931704878807068,\n",
       "  0.6931323409080505,\n",
       "  0.6931977272033691,\n",
       "  0.6931479573249817,\n",
       "  0.6932294964790344],\n",
       " 'val_recall_13': [0.5208333134651184,\n",
       "  0.5052083134651184,\n",
       "  0.5,\n",
       "  0.4947916567325592,\n",
       "  0.5052083134651184,\n",
       "  0.5,\n",
       "  0.4947916567325592,\n",
       "  0.5104166865348816,\n",
       "  0.4947916567325592,\n",
       "  0.5,\n",
       "  0.5,\n",
       "  0.5104166865348816,\n",
       "  0.4947916567325592,\n",
       "  0.5052083134651184,\n",
       "  0.4947916567325592,\n",
       "  0.5052083134651184,\n",
       "  0.4895833432674408,\n",
       "  0.5052083134651184,\n",
       "  0.484375,\n",
       "  0.5,\n",
       "  0.4947916567325592]}"
      ]
     },
     "execution_count": 29,
     "metadata": {},
     "output_type": "execute_result"
    }
   ],
   "source": [
    "history.history"
   ]
  },
  {
   "cell_type": "code",
   "execution_count": 63,
   "id": "eb2667c2",
   "metadata": {
    "scrolled": true
   },
   "outputs": [
    {
     "data": {
      "text/plain": [
       "[<matplotlib.lines.Line2D at 0x1c69a7310>]"
      ]
     },
     "execution_count": 63,
     "metadata": {},
     "output_type": "execute_result"
    },
    {
     "data": {
      "image/png": "[encoded data removed]",
      "text/plain": [
       "<Figure size 432x288 with 1 Axes>"
      ]
     },
     "metadata": {
      "needs_background": "light"
     },
     "output_type": "display_data"
    }
   ],
   "source": [
    "plt.plot(history.history['recall_29'])\n",
    "plt.plot(history.history['val_recall_29'])"
   ]
  },
  {
   "cell_type": "code",
   "execution_count": 64,
   "id": "753a58e1",
   "metadata": {
    "collapsed": true
   },
   "outputs": [
    {
     "data": {
      "text/plain": [
       "{'loss': [1.1126487255096436,\n",
       "  0.6943451166152954,\n",
       "  0.6943642497062683,\n",
       "  0.6936406493186951,\n",
       "  0.6942204236984253,\n",
       "  0.693496823310852,\n",
       "  0.6944127082824707,\n",
       "  0.6961260437965393,\n",
       "  0.6973211765289307,\n",
       "  0.693647027015686,\n",
       "  0.694367527961731,\n",
       "  0.6953568458557129,\n",
       "  0.6952702403068542,\n",
       "  0.6940326690673828,\n",
       "  0.6943004727363586,\n",
       "  0.6962108612060547,\n",
       "  0.6950347423553467,\n",
       "  0.6934135556221008,\n",
       "  0.6943610310554504,\n",
       "  0.6940463781356812,\n",
       "  0.6936529278755188,\n",
       "  0.6937520503997803,\n",
       "  0.6951199769973755,\n",
       "  0.6946102976799011,\n",
       "  0.693742036819458,\n",
       "  0.69370436668396,\n",
       "  0.6940069198608398,\n",
       "  0.6944172978401184,\n",
       "  0.6938085556030273,\n",
       "  0.6938866376876831,\n",
       "  0.6940563917160034,\n",
       "  0.6957077383995056,\n",
       "  0.6943164467811584,\n",
       "  0.6939433217048645,\n",
       "  0.69595867395401],\n",
       " 'recall_30': [0.49667221307754517,\n",
       "  0.5058236122131348,\n",
       "  0.4916805326938629,\n",
       "  0.5033277869224548,\n",
       "  0.4633943438529968,\n",
       "  0.4792013168334961,\n",
       "  0.4825291037559509,\n",
       "  0.5141431093215942,\n",
       "  0.48502495884895325,\n",
       "  0.48585689067840576,\n",
       "  0.46505823731422424,\n",
       "  0.5049917101860046,\n",
       "  0.4792013168334961,\n",
       "  0.5041597485542297,\n",
       "  0.4900166392326355,\n",
       "  0.490848571062088,\n",
       "  0.49334442615509033,\n",
       "  0.5008319616317749,\n",
       "  0.4875207841396332,\n",
       "  0.4883527457714081,\n",
       "  0.47420963644981384,\n",
       "  0.47587352991104126,\n",
       "  0.4983361065387726,\n",
       "  0.4700499176979065,\n",
       "  0.5058236122131348,\n",
       "  0.5008319616317749,\n",
       "  0.5041597485542297,\n",
       "  0.4916805326938629,\n",
       "  0.4692179560661316,\n",
       "  0.4717138111591339,\n",
       "  0.5024958252906799,\n",
       "  0.49417635798454285,\n",
       "  0.48502495884895325,\n",
       "  0.5207986831665039,\n",
       "  0.48336106538772583],\n",
       " 'val_loss': [0.6942574381828308,\n",
       "  0.6943221688270569,\n",
       "  0.6932064890861511,\n",
       "  0.693645179271698,\n",
       "  0.6935502886772156,\n",
       "  0.6935770511627197,\n",
       "  0.6932463645935059,\n",
       "  0.6987958550453186,\n",
       "  0.693617045879364,\n",
       "  0.6939257979393005,\n",
       "  0.6933439373970032,\n",
       "  0.6939346790313721,\n",
       "  0.6934184432029724,\n",
       "  0.6940293312072754,\n",
       "  0.6929473280906677,\n",
       "  0.6943915486335754,\n",
       "  0.6933813691139221,\n",
       "  0.6932222247123718,\n",
       "  0.6929970383644104,\n",
       "  0.6931136250495911,\n",
       "  0.6931416392326355,\n",
       "  0.693464457988739,\n",
       "  0.6965177059173584,\n",
       "  0.6934102177619934,\n",
       "  0.6929776072502136,\n",
       "  0.6934184432029724,\n",
       "  0.6938429474830627,\n",
       "  0.6932327151298523,\n",
       "  0.6932332515716553,\n",
       "  0.6933333277702332,\n",
       "  0.6933670043945312,\n",
       "  0.6953223347663879,\n",
       "  0.6947245597839355,\n",
       "  0.6938826441764832,\n",
       "  0.6938638687133789],\n",
       " 'val_recall_30': [0.5,\n",
       "  0.5052083134651184,\n",
       "  0.4947916567325592,\n",
       "  0.4947916567325592,\n",
       "  0.484375,\n",
       "  0.484375,\n",
       "  0.4947916567325592,\n",
       "  0.5052083134651184,\n",
       "  0.484375,\n",
       "  0.4895833432674408,\n",
       "  0.4947916567325592,\n",
       "  0.5,\n",
       "  0.4895833432674408,\n",
       "  0.4895833432674408,\n",
       "  0.515625,\n",
       "  0.5,\n",
       "  0.4947916567325592,\n",
       "  0.5,\n",
       "  0.5104166865348816,\n",
       "  0.5052083134651184,\n",
       "  0.5052083134651184,\n",
       "  0.4895833432674408,\n",
       "  0.4791666567325592,\n",
       "  0.4947916567325592,\n",
       "  0.5104166865348816,\n",
       "  0.5052083134651184,\n",
       "  0.4895833432674408,\n",
       "  0.5,\n",
       "  0.4791666567325592,\n",
       "  0.4947916567325592,\n",
       "  0.4895833432674408,\n",
       "  0.484375,\n",
       "  0.484375,\n",
       "  0.5104166865348816,\n",
       "  0.4947916567325592]}"
      ]
     },
     "execution_count": 64,
     "metadata": {},
     "output_type": "execute_result"
    }
   ],
   "source": [
    "history_2.history"
   ]
  },
  {
   "cell_type": "code",
   "execution_count": 65,
   "id": "bdd0312e",
   "metadata": {},
   "outputs": [
    {
     "data": {
      "text/plain": [
       "[<matplotlib.lines.Line2D at 0x1c6b645e0>]"
      ]
     },
     "execution_count": 65,
     "metadata": {},
     "output_type": "execute_result"
    },
    {
     "data": {
      "image/png": "[encoded data removed]",
      "text/plain": [
       "<Figure size 432x288 with 1 Axes>"
      ]
     },
     "metadata": {
      "needs_background": "light"
     },
     "output_type": "display_data"
    }
   ],
   "source": [
    "plt.plot(history_2.history['recall_30'])\n",
    "plt.plot(history_2.history['val_recall_30'])"
   ]
  },
  {
   "cell_type": "markdown",
   "id": "8e79d195",
   "metadata": {},
   "source": [
    "## Notes "
   ]
  },
  {
   "cell_type": "code",
   "execution_count": null,
   "id": "70d86364",
   "metadata": {},
   "outputs": [],
   "source": [
    "y_pred = model.predict_classes(valid_batch[0][0])\n",
    "y_pred\n",
    "\n",
    "\n",
    "y_pred = np.argmax(model.predict(valid_batch[0][0]), axis=-1)\n",
    "y_pred"
   ]
  },
  {
   "cell_type": "code",
   "execution_count": null,
   "id": "268460dd",
   "metadata": {},
   "outputs": [],
   "source": [
    "\n",
    "# Computing the probabilities of belonging to one of the 4 classes for the 10 000 images\n",
    "predicted_probabilities = model.predict(X_test) # shape = 10_000 X 4\n",
    "\n",
    "# Computing the predicted classes for all the images\n",
    "predicted_classes = np.argmax(predicted_probabilities, axis = 1) # shape = 10_000 , \n",
    "\n",
    "# Confusion Matrix\n",
    "\n",
    "from sklearn.metrics import confusion_matrix, ConfusionMatrixDisplay\n",
    "\n",
    "cm = confusion_matrix(y_test, predicted_classes)\n",
    "disp = ConfusionMatrixDisplay(confusion_matrix = cm,\n",
    "                              display_labels = np.arange(0,4+1));\n",
    "\n",
    "fig, ax = plt.subplots(figsize=(10,10));\n",
    "disp.plot(cmap = \"PuRd\", ax = ax);"
   ]
  },
  {
   "cell_type": "code",
   "execution_count": 12,
   "id": "71662a63",
   "metadata": {},
   "outputs": [],
   "source": []
  }
 ],
 "metadata": {
  "kernelspec": {
   "display_name": "Python 3 (ipykernel)",
   "language": "python",
   "name": "python3"
  },
  "language_info": {
   "codemirror_mode": {
    "name": "ipython",
    "version": 3
   },
   "file_extension": ".py",
   "mimetype": "text/x-python",
   "name": "python",
   "nbconvert_exporter": "python",
   "pygments_lexer": "ipython3",
   "version": "3.8.12"
  },
  "toc": {
   "base_numbering": 1,
   "nav_menu": {},
   "number_sections": true,
   "sideBar": true,
   "skip_h1_title": false,
   "title_cell": "Table of Contents",
   "title_sidebar": "Contents",
   "toc_cell": false,
   "toc_position": {},
   "toc_section_display": true,
   "toc_window_display": false
  }
 },
 "nbformat": 4,
 "nbformat_minor": 5
}
